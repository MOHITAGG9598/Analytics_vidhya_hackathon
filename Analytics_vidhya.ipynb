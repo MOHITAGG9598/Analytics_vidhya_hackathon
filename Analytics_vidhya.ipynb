{
 "cells": [
  {
   "cell_type": "markdown",
   "id": "31676715",
   "metadata": {},
   "source": [
    "Predict CLTV of a customer\n",
    "\n",
    "Can you help the company identify the most potential customers?\n",
    "\n",
    "\n",
    "\n",
    "Problem Statement\n",
    "\n",
    "\n",
    "VahanBima is one of the leading insurance companies in India. It provides motor vehicle insurances at best prices with 24/7 claim settlement.  It offers different types of policies for  both personal and commercial vehicles. It has established its brand across different regions in India. \n",
    "\n",
    "Around 90% of the businesses today use personalized services. The company wants to launch different personalized experience programs for customers of VahanBima. The personalized experience can be dedicated resources for claim settlement, different kinds of services at doorstep, etc. Inorder to do so, they would like to segment the customers into different tiers based on their customer lifetime value (CLTV).\n",
    "\n",
    "Inorder to do it, they would like to predict the customer lifetime value based on the activity and interaction of the customer with the platform. So, as a part of this challenge, your task at hand is to build a high performance and interpretable machine learning model to predict the CLTV based on the user and policy data.\n",
    "\n"
   ]
  },
  {
   "cell_type": "code",
   "execution_count": 702,
   "id": "a048329a",
   "metadata": {},
   "outputs": [],
   "source": [
    "#Importing libraries and ignore warnings\n",
    "import pandas as pd\n",
    "import numpy as np\n",
    "import seaborn as sns\n",
    "import matplotlib.pyplot as plt\n",
    "import warnings\n",
    "warnings.filterwarnings(\"ignore\")"
   ]
  },
  {
   "cell_type": "markdown",
   "id": "c64df4ed",
   "metadata": {},
   "source": [
    "# Read csv files"
   ]
  },
  {
   "cell_type": "code",
   "execution_count": 703,
   "id": "34e5080a",
   "metadata": {},
   "outputs": [],
   "source": [
    "#Read CSV(comma separated file),(train and test)\n",
    "df_train=pd.read_csv(\"train_BRCpofr.csv\")\n",
    "df_test=pd.read_csv(\"test_koRSKBP.csv\")"
   ]
  },
  {
   "cell_type": "code",
   "execution_count": 704,
   "id": "a9329bed",
   "metadata": {},
   "outputs": [
    {
     "data": {
      "text/html": [
       "<div>\n",
       "<style scoped>\n",
       "    .dataframe tbody tr th:only-of-type {\n",
       "        vertical-align: middle;\n",
       "    }\n",
       "\n",
       "    .dataframe tbody tr th {\n",
       "        vertical-align: top;\n",
       "    }\n",
       "\n",
       "    .dataframe thead th {\n",
       "        text-align: right;\n",
       "    }\n",
       "</style>\n",
       "<table border=\"1\" class=\"dataframe\">\n",
       "  <thead>\n",
       "    <tr style=\"text-align: right;\">\n",
       "      <th></th>\n",
       "      <th>id</th>\n",
       "      <th>gender</th>\n",
       "      <th>area</th>\n",
       "      <th>qualification</th>\n",
       "      <th>income</th>\n",
       "      <th>marital_status</th>\n",
       "      <th>vintage</th>\n",
       "      <th>claim_amount</th>\n",
       "      <th>num_policies</th>\n",
       "      <th>policy</th>\n",
       "      <th>type_of_policy</th>\n",
       "      <th>cltv</th>\n",
       "    </tr>\n",
       "  </thead>\n",
       "  <tbody>\n",
       "    <tr>\n",
       "      <th>0</th>\n",
       "      <td>1</td>\n",
       "      <td>Male</td>\n",
       "      <td>Urban</td>\n",
       "      <td>Bachelor</td>\n",
       "      <td>5L-10L</td>\n",
       "      <td>1</td>\n",
       "      <td>5</td>\n",
       "      <td>5790</td>\n",
       "      <td>More than 1</td>\n",
       "      <td>A</td>\n",
       "      <td>Platinum</td>\n",
       "      <td>64308</td>\n",
       "    </tr>\n",
       "    <tr>\n",
       "      <th>1</th>\n",
       "      <td>2</td>\n",
       "      <td>Male</td>\n",
       "      <td>Rural</td>\n",
       "      <td>High School</td>\n",
       "      <td>5L-10L</td>\n",
       "      <td>0</td>\n",
       "      <td>8</td>\n",
       "      <td>5080</td>\n",
       "      <td>More than 1</td>\n",
       "      <td>A</td>\n",
       "      <td>Platinum</td>\n",
       "      <td>515400</td>\n",
       "    </tr>\n",
       "    <tr>\n",
       "      <th>2</th>\n",
       "      <td>3</td>\n",
       "      <td>Male</td>\n",
       "      <td>Urban</td>\n",
       "      <td>Bachelor</td>\n",
       "      <td>5L-10L</td>\n",
       "      <td>1</td>\n",
       "      <td>8</td>\n",
       "      <td>2599</td>\n",
       "      <td>More than 1</td>\n",
       "      <td>A</td>\n",
       "      <td>Platinum</td>\n",
       "      <td>64212</td>\n",
       "    </tr>\n",
       "    <tr>\n",
       "      <th>3</th>\n",
       "      <td>4</td>\n",
       "      <td>Female</td>\n",
       "      <td>Rural</td>\n",
       "      <td>High School</td>\n",
       "      <td>5L-10L</td>\n",
       "      <td>0</td>\n",
       "      <td>7</td>\n",
       "      <td>0</td>\n",
       "      <td>More than 1</td>\n",
       "      <td>A</td>\n",
       "      <td>Platinum</td>\n",
       "      <td>97920</td>\n",
       "    </tr>\n",
       "    <tr>\n",
       "      <th>4</th>\n",
       "      <td>5</td>\n",
       "      <td>Male</td>\n",
       "      <td>Urban</td>\n",
       "      <td>High School</td>\n",
       "      <td>More than 10L</td>\n",
       "      <td>1</td>\n",
       "      <td>6</td>\n",
       "      <td>3508</td>\n",
       "      <td>More than 1</td>\n",
       "      <td>A</td>\n",
       "      <td>Gold</td>\n",
       "      <td>59736</td>\n",
       "    </tr>\n",
       "  </tbody>\n",
       "</table>\n",
       "</div>"
      ],
      "text/plain": [
       "   id  gender   area qualification         income  marital_status  vintage  \\\n",
       "0   1    Male  Urban      Bachelor         5L-10L               1        5   \n",
       "1   2    Male  Rural   High School         5L-10L               0        8   \n",
       "2   3    Male  Urban      Bachelor         5L-10L               1        8   \n",
       "3   4  Female  Rural   High School         5L-10L               0        7   \n",
       "4   5    Male  Urban   High School  More than 10L               1        6   \n",
       "\n",
       "   claim_amount num_policies policy type_of_policy    cltv  \n",
       "0          5790  More than 1      A       Platinum   64308  \n",
       "1          5080  More than 1      A       Platinum  515400  \n",
       "2          2599  More than 1      A       Platinum   64212  \n",
       "3             0  More than 1      A       Platinum   97920  \n",
       "4          3508  More than 1      A           Gold   59736  "
      ]
     },
     "execution_count": 704,
     "metadata": {},
     "output_type": "execute_result"
    }
   ],
   "source": [
    "#Print first 5 rows of train data set,by head function.\n",
    "df_train.head()"
   ]
  },
  {
   "cell_type": "code",
   "execution_count": 705,
   "id": "7ede1fa7",
   "metadata": {},
   "outputs": [
    {
     "data": {
      "text/html": [
       "<div>\n",
       "<style scoped>\n",
       "    .dataframe tbody tr th:only-of-type {\n",
       "        vertical-align: middle;\n",
       "    }\n",
       "\n",
       "    .dataframe tbody tr th {\n",
       "        vertical-align: top;\n",
       "    }\n",
       "\n",
       "    .dataframe thead th {\n",
       "        text-align: right;\n",
       "    }\n",
       "</style>\n",
       "<table border=\"1\" class=\"dataframe\">\n",
       "  <thead>\n",
       "    <tr style=\"text-align: right;\">\n",
       "      <th></th>\n",
       "      <th>id</th>\n",
       "      <th>gender</th>\n",
       "      <th>area</th>\n",
       "      <th>qualification</th>\n",
       "      <th>income</th>\n",
       "      <th>marital_status</th>\n",
       "      <th>vintage</th>\n",
       "      <th>claim_amount</th>\n",
       "      <th>num_policies</th>\n",
       "      <th>policy</th>\n",
       "      <th>type_of_policy</th>\n",
       "    </tr>\n",
       "  </thead>\n",
       "  <tbody>\n",
       "    <tr>\n",
       "      <th>0</th>\n",
       "      <td>89393</td>\n",
       "      <td>Female</td>\n",
       "      <td>Rural</td>\n",
       "      <td>High School</td>\n",
       "      <td>5L-10L</td>\n",
       "      <td>0</td>\n",
       "      <td>6</td>\n",
       "      <td>2134</td>\n",
       "      <td>More than 1</td>\n",
       "      <td>B</td>\n",
       "      <td>Silver</td>\n",
       "    </tr>\n",
       "    <tr>\n",
       "      <th>1</th>\n",
       "      <td>89394</td>\n",
       "      <td>Female</td>\n",
       "      <td>Urban</td>\n",
       "      <td>High School</td>\n",
       "      <td>2L-5L</td>\n",
       "      <td>0</td>\n",
       "      <td>4</td>\n",
       "      <td>4102</td>\n",
       "      <td>More than 1</td>\n",
       "      <td>A</td>\n",
       "      <td>Platinum</td>\n",
       "    </tr>\n",
       "    <tr>\n",
       "      <th>2</th>\n",
       "      <td>89395</td>\n",
       "      <td>Male</td>\n",
       "      <td>Rural</td>\n",
       "      <td>High School</td>\n",
       "      <td>5L-10L</td>\n",
       "      <td>1</td>\n",
       "      <td>7</td>\n",
       "      <td>2925</td>\n",
       "      <td>More than 1</td>\n",
       "      <td>B</td>\n",
       "      <td>Gold</td>\n",
       "    </tr>\n",
       "    <tr>\n",
       "      <th>3</th>\n",
       "      <td>89396</td>\n",
       "      <td>Female</td>\n",
       "      <td>Rural</td>\n",
       "      <td>Bachelor</td>\n",
       "      <td>More than 10L</td>\n",
       "      <td>1</td>\n",
       "      <td>2</td>\n",
       "      <td>0</td>\n",
       "      <td>More than 1</td>\n",
       "      <td>B</td>\n",
       "      <td>Silver</td>\n",
       "    </tr>\n",
       "    <tr>\n",
       "      <th>4</th>\n",
       "      <td>89397</td>\n",
       "      <td>Female</td>\n",
       "      <td>Urban</td>\n",
       "      <td>High School</td>\n",
       "      <td>2L-5L</td>\n",
       "      <td>0</td>\n",
       "      <td>5</td>\n",
       "      <td>14059</td>\n",
       "      <td>More than 1</td>\n",
       "      <td>B</td>\n",
       "      <td>Silver</td>\n",
       "    </tr>\n",
       "  </tbody>\n",
       "</table>\n",
       "</div>"
      ],
      "text/plain": [
       "      id  gender   area qualification         income  marital_status  vintage  \\\n",
       "0  89393  Female  Rural   High School         5L-10L               0        6   \n",
       "1  89394  Female  Urban   High School          2L-5L               0        4   \n",
       "2  89395    Male  Rural   High School         5L-10L               1        7   \n",
       "3  89396  Female  Rural      Bachelor  More than 10L               1        2   \n",
       "4  89397  Female  Urban   High School          2L-5L               0        5   \n",
       "\n",
       "   claim_amount num_policies policy type_of_policy  \n",
       "0          2134  More than 1      B         Silver  \n",
       "1          4102  More than 1      A       Platinum  \n",
       "2          2925  More than 1      B           Gold  \n",
       "3             0  More than 1      B         Silver  \n",
       "4         14059  More than 1      B         Silver  "
      ]
     },
     "execution_count": 705,
     "metadata": {},
     "output_type": "execute_result"
    }
   ],
   "source": [
    "#Print first 5 rows of test data set,by head function.\n",
    "df_test.head()"
   ]
  },
  {
   "cell_type": "code",
   "execution_count": 706,
   "id": "edbd9a3e",
   "metadata": {},
   "outputs": [
    {
     "data": {
      "text/plain": [
       "((89392, 12), (59595, 11))"
      ]
     },
     "execution_count": 706,
     "metadata": {},
     "output_type": "execute_result"
    }
   ],
   "source": [
    "#shape of train and test data\n",
    "df_train.shape , df_test.shape"
   ]
  },
  {
   "cell_type": "code",
   "execution_count": 707,
   "id": "74b67099",
   "metadata": {},
   "outputs": [
    {
     "data": {
      "text/html": [
       "<div>\n",
       "<style scoped>\n",
       "    .dataframe tbody tr th:only-of-type {\n",
       "        vertical-align: middle;\n",
       "    }\n",
       "\n",
       "    .dataframe tbody tr th {\n",
       "        vertical-align: top;\n",
       "    }\n",
       "\n",
       "    .dataframe thead th {\n",
       "        text-align: right;\n",
       "    }\n",
       "</style>\n",
       "<table border=\"1\" class=\"dataframe\">\n",
       "  <thead>\n",
       "    <tr style=\"text-align: right;\">\n",
       "      <th></th>\n",
       "      <th>id</th>\n",
       "      <th>gender</th>\n",
       "      <th>area</th>\n",
       "      <th>qualification</th>\n",
       "      <th>income</th>\n",
       "      <th>marital_status</th>\n",
       "      <th>vintage</th>\n",
       "      <th>claim_amount</th>\n",
       "      <th>num_policies</th>\n",
       "      <th>policy</th>\n",
       "      <th>type_of_policy</th>\n",
       "      <th>cltv</th>\n",
       "    </tr>\n",
       "  </thead>\n",
       "  <tbody>\n",
       "    <tr>\n",
       "      <th>64048</th>\n",
       "      <td>64049</td>\n",
       "      <td>Male</td>\n",
       "      <td>Urban</td>\n",
       "      <td>High School</td>\n",
       "      <td>2L-5L</td>\n",
       "      <td>1</td>\n",
       "      <td>6</td>\n",
       "      <td>5930</td>\n",
       "      <td>More than 1</td>\n",
       "      <td>A</td>\n",
       "      <td>Platinum</td>\n",
       "      <td>92952</td>\n",
       "    </tr>\n",
       "    <tr>\n",
       "      <th>48084</th>\n",
       "      <td>48085</td>\n",
       "      <td>Male</td>\n",
       "      <td>Rural</td>\n",
       "      <td>High School</td>\n",
       "      <td>5L-10L</td>\n",
       "      <td>1</td>\n",
       "      <td>5</td>\n",
       "      <td>0</td>\n",
       "      <td>1</td>\n",
       "      <td>B</td>\n",
       "      <td>Platinum</td>\n",
       "      <td>29808</td>\n",
       "    </tr>\n",
       "    <tr>\n",
       "      <th>11852</th>\n",
       "      <td>11853</td>\n",
       "      <td>Female</td>\n",
       "      <td>Urban</td>\n",
       "      <td>Bachelor</td>\n",
       "      <td>5L-10L</td>\n",
       "      <td>0</td>\n",
       "      <td>8</td>\n",
       "      <td>2933</td>\n",
       "      <td>More than 1</td>\n",
       "      <td>A</td>\n",
       "      <td>Silver</td>\n",
       "      <td>412896</td>\n",
       "    </tr>\n",
       "    <tr>\n",
       "      <th>3102</th>\n",
       "      <td>3103</td>\n",
       "      <td>Male</td>\n",
       "      <td>Urban</td>\n",
       "      <td>High School</td>\n",
       "      <td>5L-10L</td>\n",
       "      <td>0</td>\n",
       "      <td>8</td>\n",
       "      <td>6853</td>\n",
       "      <td>More than 1</td>\n",
       "      <td>A</td>\n",
       "      <td>Platinum</td>\n",
       "      <td>58740</td>\n",
       "    </tr>\n",
       "    <tr>\n",
       "      <th>84748</th>\n",
       "      <td>84749</td>\n",
       "      <td>Male</td>\n",
       "      <td>Rural</td>\n",
       "      <td>High School</td>\n",
       "      <td>5L-10L</td>\n",
       "      <td>1</td>\n",
       "      <td>7</td>\n",
       "      <td>2416</td>\n",
       "      <td>1</td>\n",
       "      <td>B</td>\n",
       "      <td>Silver</td>\n",
       "      <td>46368</td>\n",
       "    </tr>\n",
       "  </tbody>\n",
       "</table>\n",
       "</div>"
      ],
      "text/plain": [
       "          id  gender   area qualification  income  marital_status  vintage  \\\n",
       "64048  64049    Male  Urban   High School   2L-5L               1        6   \n",
       "48084  48085    Male  Rural   High School  5L-10L               1        5   \n",
       "11852  11853  Female  Urban      Bachelor  5L-10L               0        8   \n",
       "3102    3103    Male  Urban   High School  5L-10L               0        8   \n",
       "84748  84749    Male  Rural   High School  5L-10L               1        7   \n",
       "\n",
       "       claim_amount num_policies policy type_of_policy    cltv  \n",
       "64048          5930  More than 1      A       Platinum   92952  \n",
       "48084             0            1      B       Platinum   29808  \n",
       "11852          2933  More than 1      A         Silver  412896  \n",
       "3102           6853  More than 1      A       Platinum   58740  \n",
       "84748          2416            1      B         Silver   46368  "
      ]
     },
     "execution_count": 707,
     "metadata": {},
     "output_type": "execute_result"
    }
   ],
   "source": [
    "#sample for randomly selected rows\n",
    "df_train.sample(5)"
   ]
  },
  {
   "cell_type": "code",
   "execution_count": 708,
   "id": "c1ed169c",
   "metadata": {},
   "outputs": [
    {
     "data": {
      "text/html": [
       "<div>\n",
       "<style scoped>\n",
       "    .dataframe tbody tr th:only-of-type {\n",
       "        vertical-align: middle;\n",
       "    }\n",
       "\n",
       "    .dataframe tbody tr th {\n",
       "        vertical-align: top;\n",
       "    }\n",
       "\n",
       "    .dataframe thead th {\n",
       "        text-align: right;\n",
       "    }\n",
       "</style>\n",
       "<table border=\"1\" class=\"dataframe\">\n",
       "  <thead>\n",
       "    <tr style=\"text-align: right;\">\n",
       "      <th></th>\n",
       "      <th>id</th>\n",
       "      <th>gender</th>\n",
       "      <th>area</th>\n",
       "      <th>qualification</th>\n",
       "      <th>income</th>\n",
       "      <th>marital_status</th>\n",
       "      <th>vintage</th>\n",
       "      <th>claim_amount</th>\n",
       "      <th>num_policies</th>\n",
       "      <th>policy</th>\n",
       "      <th>type_of_policy</th>\n",
       "      <th>cltv</th>\n",
       "    </tr>\n",
       "  </thead>\n",
       "  <tbody>\n",
       "  </tbody>\n",
       "</table>\n",
       "</div>"
      ],
      "text/plain": [
       "Empty DataFrame\n",
       "Columns: [id, gender, area, qualification, income, marital_status, vintage, claim_amount, num_policies, policy, type_of_policy, cltv]\n",
       "Index: []"
      ]
     },
     "execution_count": 708,
     "metadata": {},
     "output_type": "execute_result"
    }
   ],
   "source": [
    "#Check duplicates\n",
    "duplicate=df_train[df_train.duplicated()]\n",
    "duplicate"
   ]
  },
  {
   "cell_type": "code",
   "execution_count": 709,
   "id": "a91da6ad",
   "metadata": {},
   "outputs": [
    {
     "data": {
      "text/plain": [
       "0"
      ]
     },
     "execution_count": 709,
     "metadata": {},
     "output_type": "execute_result"
    }
   ],
   "source": [
    "#Null values in train dataset\n",
    "df_train.isnull().sum().sum()"
   ]
  },
  {
   "cell_type": "code",
   "execution_count": 710,
   "id": "743072b9",
   "metadata": {},
   "outputs": [
    {
     "data": {
      "text/plain": [
       "0"
      ]
     },
     "execution_count": 710,
     "metadata": {},
     "output_type": "execute_result"
    }
   ],
   "source": [
    "#null values in test dataset\n",
    "df_test.isnull().sum().sum()"
   ]
  },
  {
   "cell_type": "code",
   "execution_count": 711,
   "id": "1298d031",
   "metadata": {},
   "outputs": [
    {
     "name": "stdout",
     "output_type": "stream",
     "text": [
      "<class 'pandas.core.frame.DataFrame'>\n",
      "RangeIndex: 89392 entries, 0 to 89391\n",
      "Data columns (total 12 columns):\n",
      " #   Column          Non-Null Count  Dtype \n",
      "---  ------          --------------  ----- \n",
      " 0   id              89392 non-null  int64 \n",
      " 1   gender          89392 non-null  object\n",
      " 2   area            89392 non-null  object\n",
      " 3   qualification   89392 non-null  object\n",
      " 4   income          89392 non-null  object\n",
      " 5   marital_status  89392 non-null  int64 \n",
      " 6   vintage         89392 non-null  int64 \n",
      " 7   claim_amount    89392 non-null  int64 \n",
      " 8   num_policies    89392 non-null  object\n",
      " 9   policy          89392 non-null  object\n",
      " 10  type_of_policy  89392 non-null  object\n",
      " 11  cltv            89392 non-null  int64 \n",
      "dtypes: int64(5), object(7)\n",
      "memory usage: 8.2+ MB\n"
     ]
    }
   ],
   "source": [
    "#data types of features (call .info() function)\n",
    "df_train.info()"
   ]
  },
  {
   "cell_type": "code",
   "execution_count": 712,
   "id": "58723255",
   "metadata": {},
   "outputs": [
    {
     "data": {
      "text/plain": [
       "array([ 5790,  5080,  2599, ..., 15361, 12911, 17143], dtype=int64)"
      ]
     },
     "execution_count": 712,
     "metadata": {},
     "output_type": "execute_result"
    }
   ],
   "source": [
    "#Check th unique in the claim amount of train dataset.\n",
    "df_train['claim_amount'].unique()"
   ]
  },
  {
   "cell_type": "code",
   "execution_count": 713,
   "id": "1b60d8b6",
   "metadata": {},
   "outputs": [
    {
     "data": {
      "text/plain": [
       "17143        1\n",
       "17735        1\n",
       "15044        1\n",
       "9906         1\n",
       "8894         1\n",
       "         ...  \n",
       "3834        32\n",
       "3833        32\n",
       "3912        33\n",
       "4006        38\n",
       "0        17671\n",
       "Name: claim_amount, Length: 10889, dtype: int64"
      ]
     },
     "execution_count": 713,
     "metadata": {},
     "output_type": "execute_result"
    }
   ],
   "source": [
    "#Check the no of times distinct values repeat in claim amount column of train dataset.\n",
    "df_train['claim_amount'].value_counts(ascending=True)"
   ]
  },
  {
   "cell_type": "code",
   "execution_count": 714,
   "id": "6f3020b7",
   "metadata": {},
   "outputs": [
    {
     "data": {
      "text/plain": [
       "array(['Bachelor', 'High School', 'Others'], dtype=object)"
      ]
     },
     "execution_count": 714,
     "metadata": {},
     "output_type": "execute_result"
    }
   ],
   "source": [
    "#Check the qualification by calling unique function,Here others cannot specify lower or higher,\n",
    "#so we cannot categories qualifiaction as ordinal variable.\n",
    "df_train['qualification'].unique()"
   ]
  },
  {
   "cell_type": "markdown",
   "id": "ca9dd321",
   "metadata": {},
   "source": [
    "# Scatterplot"
   ]
  },
  {
   "cell_type": "code",
   "execution_count": 715,
   "id": "c8bedf92",
   "metadata": {
    "scrolled": true
   },
   "outputs": [
    {
     "data": {
      "image/png": "[encoded data removed]",
      "text/plain": [
       "<Figure size 1000x1400 with 1 Axes>"
      ]
     },
     "metadata": {},
     "output_type": "display_data"
    }
   ],
   "source": [
    "#Check the qualification with respect to claim amount and set hue as area on scatter plot for better understanding of data.\n",
    "plt.figure(figsize=(10,14))\n",
    "sns.scatterplot('qualification','claim_amount',hue='area',data=df_train)\n",
    "plt.legend(loc=9)\n",
    "plt.show()"
   ]
  },
  {
   "cell_type": "markdown",
   "id": "5e6cf0b5",
   "metadata": {},
   "source": [
    "# Boxplot and distplot(claim_amount)"
   ]
  },
  {
   "cell_type": "code",
   "execution_count": 716,
   "id": "d777d77d",
   "metadata": {},
   "outputs": [
    {
     "data": {
      "image/png": "[encoded data removed]",
      "text/plain": [
       "<Figure size 640x480 with 2 Axes>"
      ]
     },
     "metadata": {},
     "output_type": "display_data"
    }
   ],
   "source": [
    "#Check the outliers in the claim amount, as we have seen that there are lot of outiers in the data.\n",
    "sns.set(style=\"darkgrid\")\n",
    "fig,(ax_box,ax_dist)=plt.subplots(2,sharex=True)\n",
    "sns.boxplot('claim_amount',data=df_train,ax=ax_box)\n",
    "sns.distplot(df_train['claim_amount'],hist=False,ax=ax_dist)\n",
    "plt.show()"
   ]
  },
  {
   "cell_type": "markdown",
   "id": "b0c06998",
   "metadata": {},
   "source": [
    "# boxplot and distplot(vintage)"
   ]
  },
  {
   "cell_type": "code",
   "execution_count": 717,
   "id": "e04eac08",
   "metadata": {},
   "outputs": [
    {
     "data": {
      "image/png": "[encoded data removed]",
      "text/plain": [
       "<Figure size 640x480 with 2 Axes>"
      ]
     },
     "metadata": {},
     "output_type": "display_data"
    }
   ],
   "source": [
    "#Check the outliers in the vintage column, there is no outlier in the vintage column.\n",
    "sns.set(style=\"darkgrid\")\n",
    "fig,(ax_box,ax_dist)=plt.subplots(2,sharex=True)\n",
    "sns.boxplot('vintage',data=df_train,ax=ax_box)\n",
    "sns.distplot(df_train['vintage'],hist=False,ax=ax_dist)\n",
    "plt.show()"
   ]
  },
  {
   "cell_type": "markdown",
   "id": "57c8fdf4",
   "metadata": {},
   "source": [
    "# barplot"
   ]
  },
  {
   "cell_type": "code",
   "execution_count": 718,
   "id": "ee42f885",
   "metadata": {},
   "outputs": [
    {
     "data": {
      "image/png": "[encoded data removed]",
      "text/plain": [
       "<Figure size 640x480 with 1 Axes>"
      ]
     },
     "metadata": {},
     "output_type": "display_data"
    }
   ],
   "source": [
    "#No of policies people hold is more than 1.\n",
    "df_train['num_policies'].value_counts().plot.barh()\n",
    "plt.legend(['num_policies'])\n",
    "plt.show()"
   ]
  },
  {
   "cell_type": "markdown",
   "id": "1ea92a01",
   "metadata": {},
   "source": [
    "# scatterplot"
   ]
  },
  {
   "cell_type": "code",
   "execution_count": 719,
   "id": "f7383977",
   "metadata": {},
   "outputs": [
    {
     "data": {
      "image/png": "[encoded data removed]",
      "text/plain": [
       "<Figure size 640x480 with 1 Axes>"
      ]
     },
     "metadata": {},
     "output_type": "display_data"
    }
   ],
   "source": [
    "#Here we seen that qualification v/s claim amount by set hue=gender, No.of males is higher than no.of females in all the three categories.\n",
    "sns.scatterplot('qualification','claim_amount',hue='gender',data=df_train)\n",
    "plt.show()"
   ]
  },
  {
   "cell_type": "markdown",
   "id": "e95582f0",
   "metadata": {},
   "source": [
    "# Barplot"
   ]
  },
  {
   "cell_type": "code",
   "execution_count": 720,
   "id": "348e7410",
   "metadata": {},
   "outputs": [
    {
     "data": {
      "image/png": "[encoded data removed]",
      "text/plain": [
       "<Figure size 640x480 with 1 Axes>"
      ]
     },
     "metadata": {},
     "output_type": "display_data"
    }
   ],
   "source": [
    "#Horizontal bar plot between Male and female in the data.\n",
    "df_train['gender'].value_counts().plot.barh()\n",
    "plt.show()"
   ]
  },
  {
   "cell_type": "markdown",
   "id": "1bfa0dae",
   "metadata": {},
   "source": [
    "# Countplot"
   ]
  },
  {
   "cell_type": "code",
   "execution_count": 721,
   "id": "efd26aa0",
   "metadata": {},
   "outputs": [
    {
     "data": {
      "image/png": "[encoded data removed]",
      "text/plain": [
       "<Figure size 640x480 with 1 Axes>"
      ]
     },
     "metadata": {},
     "output_type": "display_data"
    }
   ],
   "source": [
    "#We have clearly seen that people holding platinum policy ,rather than rest of 2(gold and silver)\n",
    "sns.countplot('type_of_policy',data=df_train)\n",
    "plt.show()"
   ]
  },
  {
   "cell_type": "code",
   "execution_count": 722,
   "id": "9495cee5",
   "metadata": {},
   "outputs": [
    {
     "data": {
      "text/plain": [
       "count    89392.000000\n",
       "mean      4351.502416\n",
       "std       3262.359775\n",
       "min          0.000000\n",
       "25%       2406.000000\n",
       "50%       4089.000000\n",
       "75%       6094.000000\n",
       "max      31894.000000\n",
       "Name: claim_amount, dtype: float64"
      ]
     },
     "execution_count": 722,
     "metadata": {},
     "output_type": "execute_result"
    }
   ],
   "source": [
    "#By calling describe function, we can see that how data is distributed.\n",
    "df_train['claim_amount'].describe()"
   ]
  },
  {
   "cell_type": "markdown",
   "id": "f0d05743",
   "metadata": {},
   "source": [
    "# Outlier removal through quartile method and applying capping methodology"
   ]
  },
  {
   "cell_type": "code",
   "execution_count": 723,
   "id": "8d0279eb",
   "metadata": {},
   "outputs": [],
   "source": [
    "#Q1 and Q3 percentile.\n",
    "percentile25=df_train['claim_amount'].quantile(0.25)\n",
    "percentile75=df_train['claim_amount'].quantile(0.75)"
   ]
  },
  {
   "cell_type": "code",
   "execution_count": 724,
   "id": "36f60a8d",
   "metadata": {},
   "outputs": [],
   "source": [
    "#Inter Quartile Range(IQR)\n",
    "IQR=percentile75-percentile25"
   ]
  },
  {
   "cell_type": "code",
   "execution_count": 725,
   "id": "d8d354de",
   "metadata": {},
   "outputs": [
    {
     "data": {
      "text/plain": [
       "3688.0"
      ]
     },
     "execution_count": 725,
     "metadata": {},
     "output_type": "execute_result"
    }
   ],
   "source": [
    "IQR"
   ]
  },
  {
   "cell_type": "code",
   "execution_count": 726,
   "id": "35cde3bb",
   "metadata": {},
   "outputs": [],
   "source": [
    "#Find upper and lower limit.\n",
    "upper_limit=percentile75+1.5*IQR\n",
    "lower_limit=percentile25-1.5*IQR"
   ]
  },
  {
   "cell_type": "code",
   "execution_count": 727,
   "id": "2c93d324",
   "metadata": {},
   "outputs": [
    {
     "name": "stdout",
     "output_type": "stream",
     "text": [
      "Upper_limit: 11626.0\n",
      "Lower_limit: -3126.0\n"
     ]
    }
   ],
   "source": [
    "#Print upper and lower limit\n",
    "print(\"Upper_limit:\",upper_limit)\n",
    "print(\"Lower_limit:\",lower_limit)"
   ]
  },
  {
   "cell_type": "code",
   "execution_count": 728,
   "id": "b0a018af",
   "metadata": {},
   "outputs": [
    {
     "data": {
      "text/html": [
       "<div>\n",
       "<style scoped>\n",
       "    .dataframe tbody tr th:only-of-type {\n",
       "        vertical-align: middle;\n",
       "    }\n",
       "\n",
       "    .dataframe tbody tr th {\n",
       "        vertical-align: top;\n",
       "    }\n",
       "\n",
       "    .dataframe thead th {\n",
       "        text-align: right;\n",
       "    }\n",
       "</style>\n",
       "<table border=\"1\" class=\"dataframe\">\n",
       "  <thead>\n",
       "    <tr style=\"text-align: right;\">\n",
       "      <th></th>\n",
       "      <th>id</th>\n",
       "      <th>gender</th>\n",
       "      <th>area</th>\n",
       "      <th>qualification</th>\n",
       "      <th>income</th>\n",
       "      <th>marital_status</th>\n",
       "      <th>vintage</th>\n",
       "      <th>claim_amount</th>\n",
       "      <th>num_policies</th>\n",
       "      <th>policy</th>\n",
       "      <th>type_of_policy</th>\n",
       "      <th>cltv</th>\n",
       "    </tr>\n",
       "  </thead>\n",
       "  <tbody>\n",
       "    <tr>\n",
       "      <th>47</th>\n",
       "      <td>48</td>\n",
       "      <td>Female</td>\n",
       "      <td>Urban</td>\n",
       "      <td>Bachelor</td>\n",
       "      <td>2L-5L</td>\n",
       "      <td>1</td>\n",
       "      <td>6</td>\n",
       "      <td>16123</td>\n",
       "      <td>More than 1</td>\n",
       "      <td>A</td>\n",
       "      <td>Platinum</td>\n",
       "      <td>72168</td>\n",
       "    </tr>\n",
       "    <tr>\n",
       "      <th>101</th>\n",
       "      <td>102</td>\n",
       "      <td>Male</td>\n",
       "      <td>Urban</td>\n",
       "      <td>Bachelor</td>\n",
       "      <td>5L-10L</td>\n",
       "      <td>0</td>\n",
       "      <td>6</td>\n",
       "      <td>15703</td>\n",
       "      <td>More than 1</td>\n",
       "      <td>B</td>\n",
       "      <td>Platinum</td>\n",
       "      <td>63648</td>\n",
       "    </tr>\n",
       "    <tr>\n",
       "      <th>142</th>\n",
       "      <td>143</td>\n",
       "      <td>Male</td>\n",
       "      <td>Urban</td>\n",
       "      <td>High School</td>\n",
       "      <td>5L-10L</td>\n",
       "      <td>0</td>\n",
       "      <td>6</td>\n",
       "      <td>13304</td>\n",
       "      <td>More than 1</td>\n",
       "      <td>A</td>\n",
       "      <td>Platinum</td>\n",
       "      <td>360924</td>\n",
       "    </tr>\n",
       "    <tr>\n",
       "      <th>168</th>\n",
       "      <td>169</td>\n",
       "      <td>Male</td>\n",
       "      <td>Urban</td>\n",
       "      <td>Bachelor</td>\n",
       "      <td>2L-5L</td>\n",
       "      <td>0</td>\n",
       "      <td>4</td>\n",
       "      <td>12260</td>\n",
       "      <td>More than 1</td>\n",
       "      <td>A</td>\n",
       "      <td>Gold</td>\n",
       "      <td>131616</td>\n",
       "    </tr>\n",
       "    <tr>\n",
       "      <th>193</th>\n",
       "      <td>194</td>\n",
       "      <td>Male</td>\n",
       "      <td>Urban</td>\n",
       "      <td>High School</td>\n",
       "      <td>5L-10L</td>\n",
       "      <td>0</td>\n",
       "      <td>5</td>\n",
       "      <td>15311</td>\n",
       "      <td>1</td>\n",
       "      <td>A</td>\n",
       "      <td>Platinum</td>\n",
       "      <td>34980</td>\n",
       "    </tr>\n",
       "    <tr>\n",
       "      <th>...</th>\n",
       "      <td>...</td>\n",
       "      <td>...</td>\n",
       "      <td>...</td>\n",
       "      <td>...</td>\n",
       "      <td>...</td>\n",
       "      <td>...</td>\n",
       "      <td>...</td>\n",
       "      <td>...</td>\n",
       "      <td>...</td>\n",
       "      <td>...</td>\n",
       "      <td>...</td>\n",
       "      <td>...</td>\n",
       "    </tr>\n",
       "    <tr>\n",
       "      <th>89297</th>\n",
       "      <td>89298</td>\n",
       "      <td>Female</td>\n",
       "      <td>Urban</td>\n",
       "      <td>High School</td>\n",
       "      <td>More than 10L</td>\n",
       "      <td>0</td>\n",
       "      <td>2</td>\n",
       "      <td>12925</td>\n",
       "      <td>More than 1</td>\n",
       "      <td>A</td>\n",
       "      <td>Gold</td>\n",
       "      <td>60384</td>\n",
       "    </tr>\n",
       "    <tr>\n",
       "      <th>89342</th>\n",
       "      <td>89343</td>\n",
       "      <td>Male</td>\n",
       "      <td>Urban</td>\n",
       "      <td>High School</td>\n",
       "      <td>More than 10L</td>\n",
       "      <td>1</td>\n",
       "      <td>1</td>\n",
       "      <td>12159</td>\n",
       "      <td>More than 1</td>\n",
       "      <td>A</td>\n",
       "      <td>Platinum</td>\n",
       "      <td>55608</td>\n",
       "    </tr>\n",
       "    <tr>\n",
       "      <th>89353</th>\n",
       "      <td>89354</td>\n",
       "      <td>Female</td>\n",
       "      <td>Rural</td>\n",
       "      <td>Others</td>\n",
       "      <td>5L-10L</td>\n",
       "      <td>0</td>\n",
       "      <td>3</td>\n",
       "      <td>15361</td>\n",
       "      <td>More than 1</td>\n",
       "      <td>A</td>\n",
       "      <td>Platinum</td>\n",
       "      <td>66432</td>\n",
       "    </tr>\n",
       "    <tr>\n",
       "      <th>89357</th>\n",
       "      <td>89358</td>\n",
       "      <td>Male</td>\n",
       "      <td>Urban</td>\n",
       "      <td>High School</td>\n",
       "      <td>5L-10L</td>\n",
       "      <td>0</td>\n",
       "      <td>6</td>\n",
       "      <td>12911</td>\n",
       "      <td>More than 1</td>\n",
       "      <td>A</td>\n",
       "      <td>Silver</td>\n",
       "      <td>88908</td>\n",
       "    </tr>\n",
       "    <tr>\n",
       "      <th>89371</th>\n",
       "      <td>89372</td>\n",
       "      <td>Male</td>\n",
       "      <td>Urban</td>\n",
       "      <td>Bachelor</td>\n",
       "      <td>5L-10L</td>\n",
       "      <td>1</td>\n",
       "      <td>8</td>\n",
       "      <td>17143</td>\n",
       "      <td>More than 1</td>\n",
       "      <td>A</td>\n",
       "      <td>Platinum</td>\n",
       "      <td>277056</td>\n",
       "    </tr>\n",
       "  </tbody>\n",
       "</table>\n",
       "<p>2258 rows × 12 columns</p>\n",
       "</div>"
      ],
      "text/plain": [
       "          id  gender   area qualification         income  marital_status  \\\n",
       "47        48  Female  Urban      Bachelor          2L-5L               1   \n",
       "101      102    Male  Urban      Bachelor         5L-10L               0   \n",
       "142      143    Male  Urban   High School         5L-10L               0   \n",
       "168      169    Male  Urban      Bachelor          2L-5L               0   \n",
       "193      194    Male  Urban   High School         5L-10L               0   \n",
       "...      ...     ...    ...           ...            ...             ...   \n",
       "89297  89298  Female  Urban   High School  More than 10L               0   \n",
       "89342  89343    Male  Urban   High School  More than 10L               1   \n",
       "89353  89354  Female  Rural        Others         5L-10L               0   \n",
       "89357  89358    Male  Urban   High School         5L-10L               0   \n",
       "89371  89372    Male  Urban      Bachelor         5L-10L               1   \n",
       "\n",
       "       vintage  claim_amount num_policies policy type_of_policy    cltv  \n",
       "47           6         16123  More than 1      A       Platinum   72168  \n",
       "101          6         15703  More than 1      B       Platinum   63648  \n",
       "142          6         13304  More than 1      A       Platinum  360924  \n",
       "168          4         12260  More than 1      A           Gold  131616  \n",
       "193          5         15311            1      A       Platinum   34980  \n",
       "...        ...           ...          ...    ...            ...     ...  \n",
       "89297        2         12925  More than 1      A           Gold   60384  \n",
       "89342        1         12159  More than 1      A       Platinum   55608  \n",
       "89353        3         15361  More than 1      A       Platinum   66432  \n",
       "89357        6         12911  More than 1      A         Silver   88908  \n",
       "89371        8         17143  More than 1      A       Platinum  277056  \n",
       "\n",
       "[2258 rows x 12 columns]"
      ]
     },
     "execution_count": 728,
     "metadata": {},
     "output_type": "execute_result"
    }
   ],
   "source": [
    "#Here we extrat those rows whose claim amount is greater than upper limit.\n",
    "df_train[df_train['claim_amount']>upper_limit]"
   ]
  },
  {
   "cell_type": "code",
   "execution_count": 729,
   "id": "096c9d77",
   "metadata": {},
   "outputs": [
    {
     "data": {
      "text/html": [
       "<div>\n",
       "<style scoped>\n",
       "    .dataframe tbody tr th:only-of-type {\n",
       "        vertical-align: middle;\n",
       "    }\n",
       "\n",
       "    .dataframe tbody tr th {\n",
       "        vertical-align: top;\n",
       "    }\n",
       "\n",
       "    .dataframe thead th {\n",
       "        text-align: right;\n",
       "    }\n",
       "</style>\n",
       "<table border=\"1\" class=\"dataframe\">\n",
       "  <thead>\n",
       "    <tr style=\"text-align: right;\">\n",
       "      <th></th>\n",
       "      <th>id</th>\n",
       "      <th>gender</th>\n",
       "      <th>area</th>\n",
       "      <th>qualification</th>\n",
       "      <th>income</th>\n",
       "      <th>marital_status</th>\n",
       "      <th>vintage</th>\n",
       "      <th>claim_amount</th>\n",
       "      <th>num_policies</th>\n",
       "      <th>policy</th>\n",
       "      <th>type_of_policy</th>\n",
       "      <th>cltv</th>\n",
       "    </tr>\n",
       "  </thead>\n",
       "  <tbody>\n",
       "  </tbody>\n",
       "</table>\n",
       "</div>"
      ],
      "text/plain": [
       "Empty DataFrame\n",
       "Columns: [id, gender, area, qualification, income, marital_status, vintage, claim_amount, num_policies, policy, type_of_policy, cltv]\n",
       "Index: []"
      ]
     },
     "execution_count": 729,
     "metadata": {},
     "output_type": "execute_result"
    }
   ],
   "source": [
    "#There is no outlier in the leftside of claim amount , data is positively skewed.\n",
    "df_train[df_train['claim_amount']<lower_limit]"
   ]
  },
  {
   "cell_type": "code",
   "execution_count": 730,
   "id": "a947e571",
   "metadata": {},
   "outputs": [],
   "source": [
    "#Make a copy of df_train and store it into a variable named called df_train_cap\n",
    "df_train_cap=df_train.copy()"
   ]
  },
  {
   "cell_type": "code",
   "execution_count": 731,
   "id": "ce190207",
   "metadata": {},
   "outputs": [],
   "source": [
    "#Remove the outlier by using np.where method and capping the outlier.\n",
    "#np.where(Condition to be apply,If condition=true replace it , otherwise return the original dataframe.)\n",
    "df_train_cap['claim_amount']=np.where(df_train_cap['claim_amount']>upper_limit,upper_limit,df_train_cap['claim_amount'])"
   ]
  },
  {
   "cell_type": "code",
   "execution_count": 732,
   "id": "355da143",
   "metadata": {},
   "outputs": [
    {
     "data": {
      "text/plain": [
       "(89392, 12)"
      ]
     },
     "execution_count": 732,
     "metadata": {},
     "output_type": "execute_result"
    }
   ],
   "source": [
    "#Check the shape of the dataframe(shape=(no of rows ,no of columns))\n",
    "df_train_cap.shape"
   ]
  },
  {
   "cell_type": "code",
   "execution_count": 733,
   "id": "92e093fe",
   "metadata": {},
   "outputs": [
    {
     "data": {
      "image/png": "[encoded data removed]",
      "text/plain": [
       "<Figure size 640x480 with 1 Axes>"
      ]
     },
     "metadata": {},
     "output_type": "display_data"
    }
   ],
   "source": [
    "#Check outlier is removed or not by plot the boxplot and we have clearly seen that outlier has been removed.\n",
    "sns.boxplot(df_train_cap['claim_amount'])\n",
    "plt.show()"
   ]
  },
  {
   "cell_type": "code",
   "execution_count": 734,
   "id": "acaef138",
   "metadata": {},
   "outputs": [
    {
     "data": {
      "image/png": "[encoded data removed]",
      "text/plain": [
       "<Figure size 1600x800 with 4 Axes>"
      ]
     },
     "metadata": {},
     "output_type": "display_data"
    }
   ],
   "source": [
    "#Here we check the visualization before and after the removal of outlier from claim amount column and\n",
    "#plot them side by side by subplot function.,for better visualization of data.\n",
    "plt.figure(figsize=(16,8))\n",
    "plt.subplot(2,2,1)\n",
    "sns.distplot(df_train['claim_amount'])\n",
    "\n",
    "plt.subplot(2,2,2)\n",
    "sns.boxplot(df_train['claim_amount'])\n",
    "\n",
    "plt.subplot(2,2,3)\n",
    "sns.distplot(df_train_cap['claim_amount'])\n",
    "\n",
    "plt.subplot(2,2,4)\n",
    "sns.boxplot(df_train_cap['claim_amount'])\n",
    "\n",
    "plt.show()"
   ]
  },
  {
   "cell_type": "code",
   "execution_count": 735,
   "id": "33b8a59a",
   "metadata": {},
   "outputs": [
    {
     "data": {
      "text/html": [
       "<div>\n",
       "<style scoped>\n",
       "    .dataframe tbody tr th:only-of-type {\n",
       "        vertical-align: middle;\n",
       "    }\n",
       "\n",
       "    .dataframe tbody tr th {\n",
       "        vertical-align: top;\n",
       "    }\n",
       "\n",
       "    .dataframe thead th {\n",
       "        text-align: right;\n",
       "    }\n",
       "</style>\n",
       "<table border=\"1\" class=\"dataframe\">\n",
       "  <thead>\n",
       "    <tr style=\"text-align: right;\">\n",
       "      <th></th>\n",
       "      <th>id</th>\n",
       "      <th>marital_status</th>\n",
       "      <th>vintage</th>\n",
       "      <th>claim_amount</th>\n",
       "      <th>cltv</th>\n",
       "    </tr>\n",
       "  </thead>\n",
       "  <tbody>\n",
       "    <tr>\n",
       "      <th>id</th>\n",
       "      <td>1.000000</td>\n",
       "      <td>0.000171</td>\n",
       "      <td>-0.005824</td>\n",
       "      <td>0.003257</td>\n",
       "      <td>-0.004223</td>\n",
       "    </tr>\n",
       "    <tr>\n",
       "      <th>marital_status</th>\n",
       "      <td>0.000171</td>\n",
       "      <td>1.000000</td>\n",
       "      <td>-0.011686</td>\n",
       "      <td>-0.115352</td>\n",
       "      <td>-0.077744</td>\n",
       "    </tr>\n",
       "    <tr>\n",
       "      <th>vintage</th>\n",
       "      <td>-0.005824</td>\n",
       "      <td>-0.011686</td>\n",
       "      <td>1.000000</td>\n",
       "      <td>0.008562</td>\n",
       "      <td>0.020608</td>\n",
       "    </tr>\n",
       "    <tr>\n",
       "      <th>claim_amount</th>\n",
       "      <td>0.003257</td>\n",
       "      <td>-0.115352</td>\n",
       "      <td>0.008562</td>\n",
       "      <td>1.000000</td>\n",
       "      <td>0.186592</td>\n",
       "    </tr>\n",
       "    <tr>\n",
       "      <th>cltv</th>\n",
       "      <td>-0.004223</td>\n",
       "      <td>-0.077744</td>\n",
       "      <td>0.020608</td>\n",
       "      <td>0.186592</td>\n",
       "      <td>1.000000</td>\n",
       "    </tr>\n",
       "  </tbody>\n",
       "</table>\n",
       "</div>"
      ],
      "text/plain": [
       "                      id  marital_status   vintage  claim_amount      cltv\n",
       "id              1.000000        0.000171 -0.005824      0.003257 -0.004223\n",
       "marital_status  0.000171        1.000000 -0.011686     -0.115352 -0.077744\n",
       "vintage        -0.005824       -0.011686  1.000000      0.008562  0.020608\n",
       "claim_amount    0.003257       -0.115352  0.008562      1.000000  0.186592\n",
       "cltv           -0.004223       -0.077744  0.020608      0.186592  1.000000"
      ]
     },
     "execution_count": 735,
     "metadata": {},
     "output_type": "execute_result"
    }
   ],
   "source": [
    "#Here we found correlation between the features.\n",
    "cor=df_train_cap.corr()\n",
    "cor"
   ]
  },
  {
   "cell_type": "markdown",
   "id": "8ac8c184",
   "metadata": {},
   "source": [
    "# Heatmap"
   ]
  },
  {
   "cell_type": "code",
   "execution_count": 736,
   "id": "9e1a4316",
   "metadata": {},
   "outputs": [
    {
     "data": {
      "image/png": "[encoded data removed]",
      "text/plain": [
       "<Figure size 800x400 with 2 Axes>"
      ]
     },
     "metadata": {},
     "output_type": "display_data"
    }
   ],
   "source": [
    "#Here we draw heatmap,For better visulaization of correlation between features.,and claim amount has slightly positive correlation with cltv(target variable)\n",
    "plt.figure(figsize=(8,4))\n",
    "sns.heatmap(cor,annot=True,cmap=\"twilight\")\n",
    "plt.show()"
   ]
  },
  {
   "cell_type": "markdown",
   "id": "9b09767a",
   "metadata": {},
   "source": [
    "# Drop column(id)"
   ]
  },
  {
   "cell_type": "code",
   "execution_count": 737,
   "id": "3e194f47",
   "metadata": {},
   "outputs": [],
   "source": [
    "#Here drop the id columns from df_train_cap, as id have not use in prediction the target variable and inplace=True,\n",
    "#so that it could drop from actual dataframe.\n",
    "df_train_cap.drop(columns=['id'],inplace=True)"
   ]
  },
  {
   "cell_type": "code",
   "execution_count": 738,
   "id": "4a9ea814",
   "metadata": {},
   "outputs": [
    {
     "data": {
      "text/html": [
       "<div>\n",
       "<style scoped>\n",
       "    .dataframe tbody tr th:only-of-type {\n",
       "        vertical-align: middle;\n",
       "    }\n",
       "\n",
       "    .dataframe tbody tr th {\n",
       "        vertical-align: top;\n",
       "    }\n",
       "\n",
       "    .dataframe thead th {\n",
       "        text-align: right;\n",
       "    }\n",
       "</style>\n",
       "<table border=\"1\" class=\"dataframe\">\n",
       "  <thead>\n",
       "    <tr style=\"text-align: right;\">\n",
       "      <th></th>\n",
       "      <th>gender</th>\n",
       "      <th>area</th>\n",
       "      <th>qualification</th>\n",
       "      <th>income</th>\n",
       "      <th>marital_status</th>\n",
       "      <th>vintage</th>\n",
       "      <th>claim_amount</th>\n",
       "      <th>num_policies</th>\n",
       "      <th>policy</th>\n",
       "      <th>type_of_policy</th>\n",
       "      <th>cltv</th>\n",
       "    </tr>\n",
       "  </thead>\n",
       "  <tbody>\n",
       "    <tr>\n",
       "      <th>0</th>\n",
       "      <td>Male</td>\n",
       "      <td>Urban</td>\n",
       "      <td>Bachelor</td>\n",
       "      <td>5L-10L</td>\n",
       "      <td>1</td>\n",
       "      <td>5</td>\n",
       "      <td>5790.0</td>\n",
       "      <td>More than 1</td>\n",
       "      <td>A</td>\n",
       "      <td>Platinum</td>\n",
       "      <td>64308</td>\n",
       "    </tr>\n",
       "    <tr>\n",
       "      <th>1</th>\n",
       "      <td>Male</td>\n",
       "      <td>Rural</td>\n",
       "      <td>High School</td>\n",
       "      <td>5L-10L</td>\n",
       "      <td>0</td>\n",
       "      <td>8</td>\n",
       "      <td>5080.0</td>\n",
       "      <td>More than 1</td>\n",
       "      <td>A</td>\n",
       "      <td>Platinum</td>\n",
       "      <td>515400</td>\n",
       "    </tr>\n",
       "    <tr>\n",
       "      <th>2</th>\n",
       "      <td>Male</td>\n",
       "      <td>Urban</td>\n",
       "      <td>Bachelor</td>\n",
       "      <td>5L-10L</td>\n",
       "      <td>1</td>\n",
       "      <td>8</td>\n",
       "      <td>2599.0</td>\n",
       "      <td>More than 1</td>\n",
       "      <td>A</td>\n",
       "      <td>Platinum</td>\n",
       "      <td>64212</td>\n",
       "    </tr>\n",
       "    <tr>\n",
       "      <th>3</th>\n",
       "      <td>Female</td>\n",
       "      <td>Rural</td>\n",
       "      <td>High School</td>\n",
       "      <td>5L-10L</td>\n",
       "      <td>0</td>\n",
       "      <td>7</td>\n",
       "      <td>0.0</td>\n",
       "      <td>More than 1</td>\n",
       "      <td>A</td>\n",
       "      <td>Platinum</td>\n",
       "      <td>97920</td>\n",
       "    </tr>\n",
       "    <tr>\n",
       "      <th>4</th>\n",
       "      <td>Male</td>\n",
       "      <td>Urban</td>\n",
       "      <td>High School</td>\n",
       "      <td>More than 10L</td>\n",
       "      <td>1</td>\n",
       "      <td>6</td>\n",
       "      <td>3508.0</td>\n",
       "      <td>More than 1</td>\n",
       "      <td>A</td>\n",
       "      <td>Gold</td>\n",
       "      <td>59736</td>\n",
       "    </tr>\n",
       "  </tbody>\n",
       "</table>\n",
       "</div>"
      ],
      "text/plain": [
       "   gender   area qualification         income  marital_status  vintage  \\\n",
       "0    Male  Urban      Bachelor         5L-10L               1        5   \n",
       "1    Male  Rural   High School         5L-10L               0        8   \n",
       "2    Male  Urban      Bachelor         5L-10L               1        8   \n",
       "3  Female  Rural   High School         5L-10L               0        7   \n",
       "4    Male  Urban   High School  More than 10L               1        6   \n",
       "\n",
       "   claim_amount num_policies policy type_of_policy    cltv  \n",
       "0        5790.0  More than 1      A       Platinum   64308  \n",
       "1        5080.0  More than 1      A       Platinum  515400  \n",
       "2        2599.0  More than 1      A       Platinum   64212  \n",
       "3           0.0  More than 1      A       Platinum   97920  \n",
       "4        3508.0  More than 1      A           Gold   59736  "
      ]
     },
     "execution_count": 738,
     "metadata": {},
     "output_type": "execute_result"
    }
   ],
   "source": [
    "#Show how df looks after drop the id features , call head function.\n",
    "df_train_cap.head()"
   ]
  },
  {
   "cell_type": "markdown",
   "id": "c2ad3635",
   "metadata": {},
   "source": [
    "# Replace the income existing feature from new features"
   ]
  },
  {
   "cell_type": "code",
   "execution_count": 739,
   "id": "c7bfd7b0",
   "metadata": {},
   "outputs": [
    {
     "data": {
      "text/plain": [
       "array(['5L-10L', 'More than 10L', '2L-5L', '<=2L'], dtype=object)"
      ]
     },
     "execution_count": 739,
     "metadata": {},
     "output_type": "execute_result"
    }
   ],
   "source": [
    "#Check the how many unique type of variables present in the income columns.\n",
    "df_train_cap['income'].unique()"
   ]
  },
  {
   "cell_type": "code",
   "execution_count": 740,
   "id": "84e0be6c",
   "metadata": {},
   "outputs": [],
   "source": [
    "#Here we replace the unique variable  of income feature from ordinal categories, so that we can easily apply ordinal encoding here."
   ]
  },
  {
   "cell_type": "code",
   "execution_count": 741,
   "id": "85216224",
   "metadata": {},
   "outputs": [],
   "source": [
    "#Here we replace the (<=2L) from the low income,\n",
    "df_train_cap['income'] = df_train_cap['income'].replace('<=2L', 'low')"
   ]
  },
  {
   "cell_type": "code",
   "execution_count": 742,
   "id": "d95e2133",
   "metadata": {},
   "outputs": [],
   "source": [
    "df_train_cap['income'] = df_train_cap['income'].replace('2L-5L', 'Medium')"
   ]
  },
  {
   "cell_type": "code",
   "execution_count": 743,
   "id": "8f950c16",
   "metadata": {},
   "outputs": [],
   "source": [
    "df_train_cap['income'] = df_train_cap['income'].replace('5L-10L', 'High')"
   ]
  },
  {
   "cell_type": "code",
   "execution_count": 744,
   "id": "9a748152",
   "metadata": {},
   "outputs": [],
   "source": [
    "df_train_cap['income'] = df_train_cap['income'].replace('More than 10L', 'Very High')"
   ]
  },
  {
   "cell_type": "code",
   "execution_count": 745,
   "id": "497969f8",
   "metadata": {},
   "outputs": [
    {
     "data": {
      "text/html": [
       "<div>\n",
       "<style scoped>\n",
       "    .dataframe tbody tr th:only-of-type {\n",
       "        vertical-align: middle;\n",
       "    }\n",
       "\n",
       "    .dataframe tbody tr th {\n",
       "        vertical-align: top;\n",
       "    }\n",
       "\n",
       "    .dataframe thead th {\n",
       "        text-align: right;\n",
       "    }\n",
       "</style>\n",
       "<table border=\"1\" class=\"dataframe\">\n",
       "  <thead>\n",
       "    <tr style=\"text-align: right;\">\n",
       "      <th></th>\n",
       "      <th>gender</th>\n",
       "      <th>area</th>\n",
       "      <th>qualification</th>\n",
       "      <th>income</th>\n",
       "      <th>marital_status</th>\n",
       "      <th>vintage</th>\n",
       "      <th>claim_amount</th>\n",
       "      <th>num_policies</th>\n",
       "      <th>policy</th>\n",
       "      <th>type_of_policy</th>\n",
       "      <th>cltv</th>\n",
       "    </tr>\n",
       "  </thead>\n",
       "  <tbody>\n",
       "    <tr>\n",
       "      <th>65067</th>\n",
       "      <td>Male</td>\n",
       "      <td>Urban</td>\n",
       "      <td>Bachelor</td>\n",
       "      <td>High</td>\n",
       "      <td>1</td>\n",
       "      <td>7</td>\n",
       "      <td>6719.0</td>\n",
       "      <td>More than 1</td>\n",
       "      <td>A</td>\n",
       "      <td>Gold</td>\n",
       "      <td>63264</td>\n",
       "    </tr>\n",
       "    <tr>\n",
       "      <th>10117</th>\n",
       "      <td>Female</td>\n",
       "      <td>Urban</td>\n",
       "      <td>Bachelor</td>\n",
       "      <td>Medium</td>\n",
       "      <td>0</td>\n",
       "      <td>3</td>\n",
       "      <td>11626.0</td>\n",
       "      <td>1</td>\n",
       "      <td>B</td>\n",
       "      <td>Gold</td>\n",
       "      <td>102684</td>\n",
       "    </tr>\n",
       "    <tr>\n",
       "      <th>84478</th>\n",
       "      <td>Female</td>\n",
       "      <td>Urban</td>\n",
       "      <td>Bachelor</td>\n",
       "      <td>High</td>\n",
       "      <td>1</td>\n",
       "      <td>4</td>\n",
       "      <td>2129.0</td>\n",
       "      <td>1</td>\n",
       "      <td>A</td>\n",
       "      <td>Gold</td>\n",
       "      <td>31668</td>\n",
       "    </tr>\n",
       "    <tr>\n",
       "      <th>7906</th>\n",
       "      <td>Female</td>\n",
       "      <td>Urban</td>\n",
       "      <td>High School</td>\n",
       "      <td>Medium</td>\n",
       "      <td>0</td>\n",
       "      <td>2</td>\n",
       "      <td>3731.0</td>\n",
       "      <td>More than 1</td>\n",
       "      <td>A</td>\n",
       "      <td>Platinum</td>\n",
       "      <td>56520</td>\n",
       "    </tr>\n",
       "    <tr>\n",
       "      <th>62191</th>\n",
       "      <td>Female</td>\n",
       "      <td>Urban</td>\n",
       "      <td>High School</td>\n",
       "      <td>Very High</td>\n",
       "      <td>1</td>\n",
       "      <td>1</td>\n",
       "      <td>3918.0</td>\n",
       "      <td>More than 1</td>\n",
       "      <td>A</td>\n",
       "      <td>Silver</td>\n",
       "      <td>69336</td>\n",
       "    </tr>\n",
       "    <tr>\n",
       "      <th>17916</th>\n",
       "      <td>Female</td>\n",
       "      <td>Rural</td>\n",
       "      <td>High School</td>\n",
       "      <td>Very High</td>\n",
       "      <td>1</td>\n",
       "      <td>7</td>\n",
       "      <td>0.0</td>\n",
       "      <td>More than 1</td>\n",
       "      <td>B</td>\n",
       "      <td>Platinum</td>\n",
       "      <td>69864</td>\n",
       "    </tr>\n",
       "    <tr>\n",
       "      <th>74030</th>\n",
       "      <td>Female</td>\n",
       "      <td>Urban</td>\n",
       "      <td>High School</td>\n",
       "      <td>Very High</td>\n",
       "      <td>0</td>\n",
       "      <td>5</td>\n",
       "      <td>5601.0</td>\n",
       "      <td>1</td>\n",
       "      <td>A</td>\n",
       "      <td>Platinum</td>\n",
       "      <td>96876</td>\n",
       "    </tr>\n",
       "    <tr>\n",
       "      <th>28071</th>\n",
       "      <td>Female</td>\n",
       "      <td>Urban</td>\n",
       "      <td>High School</td>\n",
       "      <td>low</td>\n",
       "      <td>1</td>\n",
       "      <td>6</td>\n",
       "      <td>7011.0</td>\n",
       "      <td>1</td>\n",
       "      <td>C</td>\n",
       "      <td>Gold</td>\n",
       "      <td>60852</td>\n",
       "    </tr>\n",
       "    <tr>\n",
       "      <th>41936</th>\n",
       "      <td>Female</td>\n",
       "      <td>Urban</td>\n",
       "      <td>High School</td>\n",
       "      <td>High</td>\n",
       "      <td>1</td>\n",
       "      <td>6</td>\n",
       "      <td>0.0</td>\n",
       "      <td>More than 1</td>\n",
       "      <td>B</td>\n",
       "      <td>Silver</td>\n",
       "      <td>476160</td>\n",
       "    </tr>\n",
       "    <tr>\n",
       "      <th>61173</th>\n",
       "      <td>Male</td>\n",
       "      <td>Urban</td>\n",
       "      <td>High School</td>\n",
       "      <td>Medium</td>\n",
       "      <td>1</td>\n",
       "      <td>6</td>\n",
       "      <td>7406.0</td>\n",
       "      <td>1</td>\n",
       "      <td>C</td>\n",
       "      <td>Platinum</td>\n",
       "      <td>70560</td>\n",
       "    </tr>\n",
       "  </tbody>\n",
       "</table>\n",
       "</div>"
      ],
      "text/plain": [
       "       gender   area qualification     income  marital_status  vintage  \\\n",
       "65067    Male  Urban      Bachelor       High               1        7   \n",
       "10117  Female  Urban      Bachelor     Medium               0        3   \n",
       "84478  Female  Urban      Bachelor       High               1        4   \n",
       "7906   Female  Urban   High School     Medium               0        2   \n",
       "62191  Female  Urban   High School  Very High               1        1   \n",
       "17916  Female  Rural   High School  Very High               1        7   \n",
       "74030  Female  Urban   High School  Very High               0        5   \n",
       "28071  Female  Urban   High School        low               1        6   \n",
       "41936  Female  Urban   High School       High               1        6   \n",
       "61173    Male  Urban   High School     Medium               1        6   \n",
       "\n",
       "       claim_amount num_policies policy type_of_policy    cltv  \n",
       "65067        6719.0  More than 1      A           Gold   63264  \n",
       "10117       11626.0            1      B           Gold  102684  \n",
       "84478        2129.0            1      A           Gold   31668  \n",
       "7906         3731.0  More than 1      A       Platinum   56520  \n",
       "62191        3918.0  More than 1      A         Silver   69336  \n",
       "17916           0.0  More than 1      B       Platinum   69864  \n",
       "74030        5601.0            1      A       Platinum   96876  \n",
       "28071        7011.0            1      C           Gold   60852  \n",
       "41936           0.0  More than 1      B         Silver  476160  \n",
       "61173        7406.0            1      C       Platinum   70560  "
      ]
     },
     "execution_count": 745,
     "metadata": {},
     "output_type": "execute_result"
    }
   ],
   "source": [
    "#After replace,how data look ,called sample function for randomly visualize of rows.\n",
    "df_train_cap.sample(10)"
   ]
  },
  {
   "cell_type": "code",
   "execution_count": 746,
   "id": "5c44c757",
   "metadata": {},
   "outputs": [],
   "source": [
    "#Replace the column name from income to income_slab for better understanding of features.\n",
    "df_train_cap.rename(columns={'income':'income_slab'},inplace=True)"
   ]
  },
  {
   "cell_type": "code",
   "execution_count": 747,
   "id": "4c751167",
   "metadata": {},
   "outputs": [
    {
     "data": {
      "text/html": [
       "<div>\n",
       "<style scoped>\n",
       "    .dataframe tbody tr th:only-of-type {\n",
       "        vertical-align: middle;\n",
       "    }\n",
       "\n",
       "    .dataframe tbody tr th {\n",
       "        vertical-align: top;\n",
       "    }\n",
       "\n",
       "    .dataframe thead th {\n",
       "        text-align: right;\n",
       "    }\n",
       "</style>\n",
       "<table border=\"1\" class=\"dataframe\">\n",
       "  <thead>\n",
       "    <tr style=\"text-align: right;\">\n",
       "      <th></th>\n",
       "      <th>gender</th>\n",
       "      <th>area</th>\n",
       "      <th>qualification</th>\n",
       "      <th>income_slab</th>\n",
       "      <th>marital_status</th>\n",
       "      <th>vintage</th>\n",
       "      <th>claim_amount</th>\n",
       "      <th>num_policies</th>\n",
       "      <th>policy</th>\n",
       "      <th>type_of_policy</th>\n",
       "      <th>cltv</th>\n",
       "    </tr>\n",
       "  </thead>\n",
       "  <tbody>\n",
       "    <tr>\n",
       "      <th>0</th>\n",
       "      <td>Male</td>\n",
       "      <td>Urban</td>\n",
       "      <td>Bachelor</td>\n",
       "      <td>High</td>\n",
       "      <td>1</td>\n",
       "      <td>5</td>\n",
       "      <td>5790.0</td>\n",
       "      <td>More than 1</td>\n",
       "      <td>A</td>\n",
       "      <td>Platinum</td>\n",
       "      <td>64308</td>\n",
       "    </tr>\n",
       "    <tr>\n",
       "      <th>1</th>\n",
       "      <td>Male</td>\n",
       "      <td>Rural</td>\n",
       "      <td>High School</td>\n",
       "      <td>High</td>\n",
       "      <td>0</td>\n",
       "      <td>8</td>\n",
       "      <td>5080.0</td>\n",
       "      <td>More than 1</td>\n",
       "      <td>A</td>\n",
       "      <td>Platinum</td>\n",
       "      <td>515400</td>\n",
       "    </tr>\n",
       "    <tr>\n",
       "      <th>2</th>\n",
       "      <td>Male</td>\n",
       "      <td>Urban</td>\n",
       "      <td>Bachelor</td>\n",
       "      <td>High</td>\n",
       "      <td>1</td>\n",
       "      <td>8</td>\n",
       "      <td>2599.0</td>\n",
       "      <td>More than 1</td>\n",
       "      <td>A</td>\n",
       "      <td>Platinum</td>\n",
       "      <td>64212</td>\n",
       "    </tr>\n",
       "    <tr>\n",
       "      <th>3</th>\n",
       "      <td>Female</td>\n",
       "      <td>Rural</td>\n",
       "      <td>High School</td>\n",
       "      <td>High</td>\n",
       "      <td>0</td>\n",
       "      <td>7</td>\n",
       "      <td>0.0</td>\n",
       "      <td>More than 1</td>\n",
       "      <td>A</td>\n",
       "      <td>Platinum</td>\n",
       "      <td>97920</td>\n",
       "    </tr>\n",
       "    <tr>\n",
       "      <th>4</th>\n",
       "      <td>Male</td>\n",
       "      <td>Urban</td>\n",
       "      <td>High School</td>\n",
       "      <td>Very High</td>\n",
       "      <td>1</td>\n",
       "      <td>6</td>\n",
       "      <td>3508.0</td>\n",
       "      <td>More than 1</td>\n",
       "      <td>A</td>\n",
       "      <td>Gold</td>\n",
       "      <td>59736</td>\n",
       "    </tr>\n",
       "  </tbody>\n",
       "</table>\n",
       "</div>"
      ],
      "text/plain": [
       "   gender   area qualification income_slab  marital_status  vintage  \\\n",
       "0    Male  Urban      Bachelor        High               1        5   \n",
       "1    Male  Rural   High School        High               0        8   \n",
       "2    Male  Urban      Bachelor        High               1        8   \n",
       "3  Female  Rural   High School        High               0        7   \n",
       "4    Male  Urban   High School   Very High               1        6   \n",
       "\n",
       "   claim_amount num_policies policy type_of_policy    cltv  \n",
       "0        5790.0  More than 1      A       Platinum   64308  \n",
       "1        5080.0  More than 1      A       Platinum  515400  \n",
       "2        2599.0  More than 1      A       Platinum   64212  \n",
       "3           0.0  More than 1      A       Platinum   97920  \n",
       "4        3508.0  More than 1      A           Gold   59736  "
      ]
     },
     "execution_count": 747,
     "metadata": {},
     "output_type": "execute_result"
    }
   ],
   "source": [
    "#call head function\n",
    "df_train_cap.head()"
   ]
  },
  {
   "cell_type": "markdown",
   "id": "b829a56b",
   "metadata": {},
   "source": [
    "# One hot encoding or pd.get_dummies."
   ]
  },
  {
   "cell_type": "code",
   "execution_count": 748,
   "id": "fac5b26e",
   "metadata": {},
   "outputs": [],
   "source": [
    "#Here we perform dummies function on nominal categorical variable and drop_first=True,to avoid multicollinearity.\n",
    "df_train_cap=pd.get_dummies(df_train_cap,columns=['num_policies','policy','gender','qualification','area'],drop_first=True)"
   ]
  },
  {
   "cell_type": "code",
   "execution_count": 749,
   "id": "e99e7ce7",
   "metadata": {},
   "outputs": [
    {
     "data": {
      "text/html": [
       "<div>\n",
       "<style scoped>\n",
       "    .dataframe tbody tr th:only-of-type {\n",
       "        vertical-align: middle;\n",
       "    }\n",
       "\n",
       "    .dataframe tbody tr th {\n",
       "        vertical-align: top;\n",
       "    }\n",
       "\n",
       "    .dataframe thead th {\n",
       "        text-align: right;\n",
       "    }\n",
       "</style>\n",
       "<table border=\"1\" class=\"dataframe\">\n",
       "  <thead>\n",
       "    <tr style=\"text-align: right;\">\n",
       "      <th></th>\n",
       "      <th>income_slab</th>\n",
       "      <th>marital_status</th>\n",
       "      <th>vintage</th>\n",
       "      <th>claim_amount</th>\n",
       "      <th>type_of_policy</th>\n",
       "      <th>cltv</th>\n",
       "      <th>num_policies_More than 1</th>\n",
       "      <th>policy_B</th>\n",
       "      <th>policy_C</th>\n",
       "      <th>gender_Male</th>\n",
       "      <th>qualification_High School</th>\n",
       "      <th>qualification_Others</th>\n",
       "      <th>area_Urban</th>\n",
       "    </tr>\n",
       "  </thead>\n",
       "  <tbody>\n",
       "    <tr>\n",
       "      <th>0</th>\n",
       "      <td>High</td>\n",
       "      <td>1</td>\n",
       "      <td>5</td>\n",
       "      <td>5790.0</td>\n",
       "      <td>Platinum</td>\n",
       "      <td>64308</td>\n",
       "      <td>1</td>\n",
       "      <td>0</td>\n",
       "      <td>0</td>\n",
       "      <td>1</td>\n",
       "      <td>0</td>\n",
       "      <td>0</td>\n",
       "      <td>1</td>\n",
       "    </tr>\n",
       "  </tbody>\n",
       "</table>\n",
       "</div>"
      ],
      "text/plain": [
       "  income_slab  marital_status  vintage  claim_amount type_of_policy   cltv  \\\n",
       "0        High               1        5        5790.0       Platinum  64308   \n",
       "\n",
       "   num_policies_More than 1  policy_B  policy_C  gender_Male  \\\n",
       "0                         1         0         0            1   \n",
       "\n",
       "   qualification_High School  qualification_Others  area_Urban  \n",
       "0                          0                     0           1  "
      ]
     },
     "execution_count": 749,
     "metadata": {},
     "output_type": "execute_result"
    }
   ],
   "source": [
    "#call head function\n",
    "df_train_cap.head(1)"
   ]
  },
  {
   "cell_type": "markdown",
   "id": "f6e790c7",
   "metadata": {},
   "source": [
    "# Ordinal encoding"
   ]
  },
  {
   "cell_type": "code",
   "execution_count": 750,
   "id": "47860872",
   "metadata": {},
   "outputs": [],
   "source": [
    "#Ordinal encoding-as income slab and type of policy are ordinal categorical variables we can easily apply ordinal encoding here."
   ]
  },
  {
   "cell_type": "code",
   "execution_count": 751,
   "id": "b2170e14",
   "metadata": {},
   "outputs": [],
   "source": [
    "#import Ordinal encoder from sklearn library\n",
    "from sklearn.preprocessing import OrdinalEncoder"
   ]
  },
  {
   "cell_type": "code",
   "execution_count": 752,
   "id": "8aad3297",
   "metadata": {},
   "outputs": [],
   "source": [
    "#Make a variable called enc and pass Ordinal encoder.\n",
    "enc=OrdinalEncoder(categories=[['low','Medium','High','Very High'],['Silver','Gold','Platinum']])"
   ]
  },
  {
   "cell_type": "code",
   "execution_count": 753,
   "id": "6ae9d84d",
   "metadata": {},
   "outputs": [
    {
     "data": {
      "text/plain": [
       "OrdinalEncoder(categories=[['low', 'Medium', 'High', 'Very High'],\n",
       "                           ['Silver', 'Gold', 'Platinum']])"
      ]
     },
     "execution_count": 753,
     "metadata": {},
     "output_type": "execute_result"
    }
   ],
   "source": [
    "#Fit the featre name on which ordinal encoding is apply.\n",
    "enc.fit(df_train_cap[['income_slab',\"type_of_policy\"]])"
   ]
  },
  {
   "cell_type": "code",
   "execution_count": 754,
   "id": "3497a784",
   "metadata": {},
   "outputs": [],
   "source": [
    "#transform the features.\n",
    "df_train_cap[['income_slab','type_of_policy']]=enc.transform(df_train_cap[['income_slab','type_of_policy']])"
   ]
  },
  {
   "cell_type": "code",
   "execution_count": 755,
   "id": "86978cdf",
   "metadata": {},
   "outputs": [
    {
     "data": {
      "text/html": [
       "<div>\n",
       "<style scoped>\n",
       "    .dataframe tbody tr th:only-of-type {\n",
       "        vertical-align: middle;\n",
       "    }\n",
       "\n",
       "    .dataframe tbody tr th {\n",
       "        vertical-align: top;\n",
       "    }\n",
       "\n",
       "    .dataframe thead th {\n",
       "        text-align: right;\n",
       "    }\n",
       "</style>\n",
       "<table border=\"1\" class=\"dataframe\">\n",
       "  <thead>\n",
       "    <tr style=\"text-align: right;\">\n",
       "      <th></th>\n",
       "      <th>income_slab</th>\n",
       "      <th>marital_status</th>\n",
       "      <th>vintage</th>\n",
       "      <th>claim_amount</th>\n",
       "      <th>type_of_policy</th>\n",
       "      <th>cltv</th>\n",
       "      <th>num_policies_More than 1</th>\n",
       "      <th>policy_B</th>\n",
       "      <th>policy_C</th>\n",
       "      <th>gender_Male</th>\n",
       "      <th>qualification_High School</th>\n",
       "      <th>qualification_Others</th>\n",
       "      <th>area_Urban</th>\n",
       "    </tr>\n",
       "  </thead>\n",
       "  <tbody>\n",
       "    <tr>\n",
       "      <th>0</th>\n",
       "      <td>2.0</td>\n",
       "      <td>1</td>\n",
       "      <td>5</td>\n",
       "      <td>5790.0</td>\n",
       "      <td>2.0</td>\n",
       "      <td>64308</td>\n",
       "      <td>1</td>\n",
       "      <td>0</td>\n",
       "      <td>0</td>\n",
       "      <td>1</td>\n",
       "      <td>0</td>\n",
       "      <td>0</td>\n",
       "      <td>1</td>\n",
       "    </tr>\n",
       "    <tr>\n",
       "      <th>1</th>\n",
       "      <td>2.0</td>\n",
       "      <td>0</td>\n",
       "      <td>8</td>\n",
       "      <td>5080.0</td>\n",
       "      <td>2.0</td>\n",
       "      <td>515400</td>\n",
       "      <td>1</td>\n",
       "      <td>0</td>\n",
       "      <td>0</td>\n",
       "      <td>1</td>\n",
       "      <td>1</td>\n",
       "      <td>0</td>\n",
       "      <td>0</td>\n",
       "    </tr>\n",
       "    <tr>\n",
       "      <th>2</th>\n",
       "      <td>2.0</td>\n",
       "      <td>1</td>\n",
       "      <td>8</td>\n",
       "      <td>2599.0</td>\n",
       "      <td>2.0</td>\n",
       "      <td>64212</td>\n",
       "      <td>1</td>\n",
       "      <td>0</td>\n",
       "      <td>0</td>\n",
       "      <td>1</td>\n",
       "      <td>0</td>\n",
       "      <td>0</td>\n",
       "      <td>1</td>\n",
       "    </tr>\n",
       "    <tr>\n",
       "      <th>3</th>\n",
       "      <td>2.0</td>\n",
       "      <td>0</td>\n",
       "      <td>7</td>\n",
       "      <td>0.0</td>\n",
       "      <td>2.0</td>\n",
       "      <td>97920</td>\n",
       "      <td>1</td>\n",
       "      <td>0</td>\n",
       "      <td>0</td>\n",
       "      <td>0</td>\n",
       "      <td>1</td>\n",
       "      <td>0</td>\n",
       "      <td>0</td>\n",
       "    </tr>\n",
       "    <tr>\n",
       "      <th>4</th>\n",
       "      <td>3.0</td>\n",
       "      <td>1</td>\n",
       "      <td>6</td>\n",
       "      <td>3508.0</td>\n",
       "      <td>1.0</td>\n",
       "      <td>59736</td>\n",
       "      <td>1</td>\n",
       "      <td>0</td>\n",
       "      <td>0</td>\n",
       "      <td>1</td>\n",
       "      <td>1</td>\n",
       "      <td>0</td>\n",
       "      <td>1</td>\n",
       "    </tr>\n",
       "  </tbody>\n",
       "</table>\n",
       "</div>"
      ],
      "text/plain": [
       "   income_slab  marital_status  vintage  claim_amount  type_of_policy    cltv  \\\n",
       "0          2.0               1        5        5790.0             2.0   64308   \n",
       "1          2.0               0        8        5080.0             2.0  515400   \n",
       "2          2.0               1        8        2599.0             2.0   64212   \n",
       "3          2.0               0        7           0.0             2.0   97920   \n",
       "4          3.0               1        6        3508.0             1.0   59736   \n",
       "\n",
       "   num_policies_More than 1  policy_B  policy_C  gender_Male  \\\n",
       "0                         1         0         0            1   \n",
       "1                         1         0         0            1   \n",
       "2                         1         0         0            1   \n",
       "3                         1         0         0            0   \n",
       "4                         1         0         0            1   \n",
       "\n",
       "   qualification_High School  qualification_Others  area_Urban  \n",
       "0                          0                     0           1  \n",
       "1                          1                     0           0  \n",
       "2                          0                     0           1  \n",
       "3                          1                     0           0  \n",
       "4                          1                     0           1  "
      ]
     },
     "execution_count": 755,
     "metadata": {},
     "output_type": "execute_result"
    }
   ],
   "source": [
    "#call head function , and we can see that all of the features are now numerical in nature so we can easily train the data.\n",
    "df_train_cap.head()"
   ]
  },
  {
   "cell_type": "markdown",
   "id": "3c77abb2",
   "metadata": {},
   "source": [
    "# Train the training data"
   ]
  },
  {
   "cell_type": "code",
   "execution_count": 756,
   "id": "7dda3721",
   "metadata": {},
   "outputs": [],
   "source": [
    "#Here scale the data so that there is no bias between the data by apply Standscalar( a function of sklearn library)\n",
    "from sklearn.preprocessing import MinMaxScaler\n",
    "#Here make an object named scaler\n",
    "scaler=MinMaxScaler()"
   ]
  },
  {
   "cell_type": "code",
   "execution_count": 757,
   "id": "8c771063",
   "metadata": {},
   "outputs": [],
   "source": [
    "#Here make a variable called num_vars and passed the feature names on which standard scaler is apply.\n",
    "num_vars=['income_slab','vintage','claim_amount','type_of_policy']\n",
    "df_train_cap[num_vars]=scaler.fit_transform(df_train_cap[num_vars])\n"
   ]
  },
  {
   "cell_type": "code",
   "execution_count": 758,
   "id": "5328833c",
   "metadata": {},
   "outputs": [
    {
     "data": {
      "text/html": [
       "<div>\n",
       "<style scoped>\n",
       "    .dataframe tbody tr th:only-of-type {\n",
       "        vertical-align: middle;\n",
       "    }\n",
       "\n",
       "    .dataframe tbody tr th {\n",
       "        vertical-align: top;\n",
       "    }\n",
       "\n",
       "    .dataframe thead th {\n",
       "        text-align: right;\n",
       "    }\n",
       "</style>\n",
       "<table border=\"1\" class=\"dataframe\">\n",
       "  <thead>\n",
       "    <tr style=\"text-align: right;\">\n",
       "      <th></th>\n",
       "      <th>income_slab</th>\n",
       "      <th>marital_status</th>\n",
       "      <th>vintage</th>\n",
       "      <th>claim_amount</th>\n",
       "      <th>type_of_policy</th>\n",
       "      <th>cltv</th>\n",
       "      <th>num_policies_More than 1</th>\n",
       "      <th>policy_B</th>\n",
       "      <th>policy_C</th>\n",
       "      <th>gender_Male</th>\n",
       "      <th>qualification_High School</th>\n",
       "      <th>qualification_Others</th>\n",
       "      <th>area_Urban</th>\n",
       "    </tr>\n",
       "  </thead>\n",
       "  <tbody>\n",
       "    <tr>\n",
       "      <th>0</th>\n",
       "      <td>0.666667</td>\n",
       "      <td>1</td>\n",
       "      <td>0.625</td>\n",
       "      <td>0.498022</td>\n",
       "      <td>1.0</td>\n",
       "      <td>64308</td>\n",
       "      <td>1</td>\n",
       "      <td>0</td>\n",
       "      <td>0</td>\n",
       "      <td>1</td>\n",
       "      <td>0</td>\n",
       "      <td>0</td>\n",
       "      <td>1</td>\n",
       "    </tr>\n",
       "    <tr>\n",
       "      <th>1</th>\n",
       "      <td>0.666667</td>\n",
       "      <td>0</td>\n",
       "      <td>1.000</td>\n",
       "      <td>0.436952</td>\n",
       "      <td>1.0</td>\n",
       "      <td>515400</td>\n",
       "      <td>1</td>\n",
       "      <td>0</td>\n",
       "      <td>0</td>\n",
       "      <td>1</td>\n",
       "      <td>1</td>\n",
       "      <td>0</td>\n",
       "      <td>0</td>\n",
       "    </tr>\n",
       "    <tr>\n",
       "      <th>2</th>\n",
       "      <td>0.666667</td>\n",
       "      <td>1</td>\n",
       "      <td>1.000</td>\n",
       "      <td>0.223551</td>\n",
       "      <td>1.0</td>\n",
       "      <td>64212</td>\n",
       "      <td>1</td>\n",
       "      <td>0</td>\n",
       "      <td>0</td>\n",
       "      <td>1</td>\n",
       "      <td>0</td>\n",
       "      <td>0</td>\n",
       "      <td>1</td>\n",
       "    </tr>\n",
       "    <tr>\n",
       "      <th>3</th>\n",
       "      <td>0.666667</td>\n",
       "      <td>0</td>\n",
       "      <td>0.875</td>\n",
       "      <td>0.000000</td>\n",
       "      <td>1.0</td>\n",
       "      <td>97920</td>\n",
       "      <td>1</td>\n",
       "      <td>0</td>\n",
       "      <td>0</td>\n",
       "      <td>0</td>\n",
       "      <td>1</td>\n",
       "      <td>0</td>\n",
       "      <td>0</td>\n",
       "    </tr>\n",
       "    <tr>\n",
       "      <th>4</th>\n",
       "      <td>1.000000</td>\n",
       "      <td>1</td>\n",
       "      <td>0.750</td>\n",
       "      <td>0.301737</td>\n",
       "      <td>0.5</td>\n",
       "      <td>59736</td>\n",
       "      <td>1</td>\n",
       "      <td>0</td>\n",
       "      <td>0</td>\n",
       "      <td>1</td>\n",
       "      <td>1</td>\n",
       "      <td>0</td>\n",
       "      <td>1</td>\n",
       "    </tr>\n",
       "  </tbody>\n",
       "</table>\n",
       "</div>"
      ],
      "text/plain": [
       "   income_slab  marital_status  vintage  claim_amount  type_of_policy    cltv  \\\n",
       "0     0.666667               1    0.625      0.498022             1.0   64308   \n",
       "1     0.666667               0    1.000      0.436952             1.0  515400   \n",
       "2     0.666667               1    1.000      0.223551             1.0   64212   \n",
       "3     0.666667               0    0.875      0.000000             1.0   97920   \n",
       "4     1.000000               1    0.750      0.301737             0.5   59736   \n",
       "\n",
       "   num_policies_More than 1  policy_B  policy_C  gender_Male  \\\n",
       "0                         1         0         0            1   \n",
       "1                         1         0         0            1   \n",
       "2                         1         0         0            1   \n",
       "3                         1         0         0            0   \n",
       "4                         1         0         0            1   \n",
       "\n",
       "   qualification_High School  qualification_Others  area_Urban  \n",
       "0                          0                     0           1  \n",
       "1                          1                     0           0  \n",
       "2                          0                     0           1  \n",
       "3                          1                     0           0  \n",
       "4                          1                     0           1  "
      ]
     },
     "execution_count": 758,
     "metadata": {},
     "output_type": "execute_result"
    }
   ],
   "source": [
    "#After scaling how data looks by call head function.\n",
    "df_train_cap.head()"
   ]
  },
  {
   "cell_type": "code",
   "execution_count": 759,
   "id": "99dbe3eb",
   "metadata": {},
   "outputs": [
    {
     "data": {
      "text/plain": [
       "(89392, 13)"
      ]
     },
     "execution_count": 759,
     "metadata": {},
     "output_type": "execute_result"
    }
   ],
   "source": [
    "df_train_cap.shape"
   ]
  },
  {
   "cell_type": "code",
   "execution_count": 760,
   "id": "3b358e30",
   "metadata": {},
   "outputs": [],
   "source": [
    "#Split the data into X_train ad Y_train\n",
    "X_train=df_train_cap.drop(columns=['cltv'])"
   ]
  },
  {
   "cell_type": "code",
   "execution_count": 761,
   "id": "bc942fb2",
   "metadata": {},
   "outputs": [
    {
     "data": {
      "text/plain": [
       "(89392, 12)"
      ]
     },
     "execution_count": 761,
     "metadata": {},
     "output_type": "execute_result"
    }
   ],
   "source": [
    "X_train.shape"
   ]
  },
  {
   "cell_type": "code",
   "execution_count": 762,
   "id": "75d19891",
   "metadata": {},
   "outputs": [],
   "source": [
    "Y_train=df_train_cap.pop(\"cltv\")"
   ]
  },
  {
   "cell_type": "code",
   "execution_count": 763,
   "id": "f682c62a",
   "metadata": {},
   "outputs": [
    {
     "data": {
      "text/plain": [
       "0         64308\n",
       "1        515400\n",
       "2         64212\n",
       "3         97920\n",
       "4         59736\n",
       "          ...  \n",
       "89387     95736\n",
       "89388     67596\n",
       "89389    114120\n",
       "89390     71772\n",
       "89391    108144\n",
       "Name: cltv, Length: 89392, dtype: int64"
      ]
     },
     "execution_count": 763,
     "metadata": {},
     "output_type": "execute_result"
    }
   ],
   "source": [
    "Y_train"
   ]
  },
  {
   "cell_type": "markdown",
   "id": "aabbc3b0",
   "metadata": {},
   "source": [
    "# Importing Libraries and make a build_model,checkVIF function."
   ]
  },
  {
   "cell_type": "code",
   "execution_count": 764,
   "id": "441246bb",
   "metadata": {},
   "outputs": [],
   "source": [
    "#Importing libraries\n",
    "import statsmodels.api as sm\n",
    "from statsmodels.stats.outliers_influence import variance_inflation_factor"
   ]
  },
  {
   "cell_type": "code",
   "execution_count": 765,
   "id": "2a50be4a",
   "metadata": {},
   "outputs": [],
   "source": [
    "#Here make an function called build_model,in which X_train and Y_train and it gives an OLS Regressin result also adding a constant term by callling sm.add_constant.\n",
    "def build_model(X,y):\n",
    "    X=sm.add_constant(X)\n",
    "    lm=sm.OLS(y,X).fit()\n",
    "    print(lm.summary())\n",
    "    return lm\n"
   ]
  },
  {
   "cell_type": "code",
   "execution_count": 766,
   "id": "61dd4569",
   "metadata": {},
   "outputs": [],
   "source": [
    "#Check variance_inflation_factor,it goves out the multicollinearity between the independent variables.\n",
    "# We have to drop those feature who has VIF>5 and p_value>0.05 simultaneously occur,otherwise not.\n",
    "def checkVIF(X):\n",
    "    vif =pd.DataFrame()\n",
    "    vif['Features']=X.columns\n",
    "    vif['VIF']=[variance_inflation_factor(X.values,i) for i in range(X.shape[1])]\n",
    "    vif['VIF']=round(vif['VIF'],2)\n",
    "    vif=vif.sort_values(by=\"VIF\",ascending=False)\n",
    "    return(vif)"
   ]
  },
  {
   "cell_type": "markdown",
   "id": "fea21a7e",
   "metadata": {},
   "source": [
    "# Model Summary"
   ]
  },
  {
   "cell_type": "code",
   "execution_count": 767,
   "id": "10166d30",
   "metadata": {},
   "outputs": [
    {
     "name": "stdout",
     "output_type": "stream",
     "text": [
      "                            OLS Regression Results                            \n",
      "==============================================================================\n",
      "Dep. Variable:                   cltv   R-squared:                       0.153\n",
      "Model:                            OLS   Adj. R-squared:                  0.152\n",
      "Method:                 Least Squares   F-statistic:                     1341.\n",
      "Date:                Sun, 22 Jan 2023   Prob (F-statistic):               0.00\n",
      "Time:                        23:52:03   Log-Likelihood:            -1.1398e+06\n",
      "No. Observations:               89392   AIC:                         2.280e+06\n",
      "Df Residuals:                   89379   BIC:                         2.280e+06\n",
      "Df Model:                          12                                         \n",
      "Covariance Type:            nonrobust                                         \n",
      "=============================================================================================\n",
      "                                coef    std err          t      P>|t|      [0.025      0.975]\n",
      "---------------------------------------------------------------------------------------------\n",
      "const                      4.514e+04   1501.362     30.067      0.000    4.22e+04    4.81e+04\n",
      "income_slab               -8495.4440   1294.112     -6.565      0.000    -1.1e+04   -5958.998\n",
      "marital_status            -7151.5194    572.265    -12.497      0.000   -8273.153   -6029.886\n",
      "vintage                    1788.6974    980.612      1.824      0.068    -133.293    3710.688\n",
      "claim_amount               3.638e+04   1269.406     28.657      0.000    3.39e+04    3.89e+04\n",
      "type_of_policy             1358.6470    682.861      1.990      0.047      20.245    2697.049\n",
      "num_policies_More than 1   6.487e+04    610.222    106.308      0.000    6.37e+04    6.61e+04\n",
      "policy_B                  -7149.6893    661.520    -10.808      0.000   -8446.261   -5853.117\n",
      "policy_C                   9940.3163    994.232      9.998      0.000    7991.630    1.19e+04\n",
      "gender_Male                2343.3092    567.303      4.131      0.000    1231.401    3455.217\n",
      "qualification_High School  -995.7097    575.887     -1.729      0.084   -2124.442     133.023\n",
      "qualification_Others      -7977.1415   1431.325     -5.573      0.000   -1.08e+04   -5171.759\n",
      "area_Urban                 5474.1847    710.863      7.701      0.000    4080.900    6867.470\n",
      "==============================================================================\n",
      "Omnibus:                    51155.217   Durbin-Watson:                   1.994\n",
      "Prob(Omnibus):                  0.000   Jarque-Bera (JB):           403057.996\n",
      "Skew:                           2.730   Prob(JB):                         0.00\n",
      "Kurtosis:                      11.854   Cond. No.                         14.1\n",
      "==============================================================================\n",
      "\n",
      "Notes:\n",
      "[1] Standard Errors assume that the covariance matrix of the errors is correctly specified.\n"
     ]
    }
   ],
   "source": [
    "#Here the summary of OLS(Ordinary Least Squares)\n",
    "model1=build_model(X_train,Y_train)"
   ]
  },
  {
   "cell_type": "markdown",
   "id": "d1454d26",
   "metadata": {},
   "source": [
    "# VIF"
   ]
  },
  {
   "cell_type": "code",
   "execution_count": 768,
   "id": "7947c66a",
   "metadata": {},
   "outputs": [
    {
     "data": {
      "text/html": [
       "<div>\n",
       "<style scoped>\n",
       "    .dataframe tbody tr th:only-of-type {\n",
       "        vertical-align: middle;\n",
       "    }\n",
       "\n",
       "    .dataframe tbody tr th {\n",
       "        vertical-align: top;\n",
       "    }\n",
       "\n",
       "    .dataframe thead th {\n",
       "        text-align: right;\n",
       "    }\n",
       "</style>\n",
       "<table border=\"1\" class=\"dataframe\">\n",
       "  <thead>\n",
       "    <tr style=\"text-align: right;\">\n",
       "      <th></th>\n",
       "      <th>Features</th>\n",
       "      <th>VIF</th>\n",
       "    </tr>\n",
       "  </thead>\n",
       "  <tbody>\n",
       "    <tr>\n",
       "      <th>0</th>\n",
       "      <td>income_slab</td>\n",
       "      <td>5.59</td>\n",
       "    </tr>\n",
       "    <tr>\n",
       "      <th>2</th>\n",
       "      <td>vintage</td>\n",
       "      <td>4.44</td>\n",
       "    </tr>\n",
       "    <tr>\n",
       "      <th>11</th>\n",
       "      <td>area_Urban</td>\n",
       "      <td>4.16</td>\n",
       "    </tr>\n",
       "    <tr>\n",
       "      <th>3</th>\n",
       "      <td>claim_amount</td>\n",
       "      <td>3.96</td>\n",
       "    </tr>\n",
       "    <tr>\n",
       "      <th>4</th>\n",
       "      <td>type_of_policy</td>\n",
       "      <td>3.29</td>\n",
       "    </tr>\n",
       "    <tr>\n",
       "      <th>5</th>\n",
       "      <td>num_policies_More than 1</td>\n",
       "      <td>3.05</td>\n",
       "    </tr>\n",
       "    <tr>\n",
       "      <th>8</th>\n",
       "      <td>gender_Male</td>\n",
       "      <td>2.27</td>\n",
       "    </tr>\n",
       "    <tr>\n",
       "      <th>1</th>\n",
       "      <td>marital_status</td>\n",
       "      <td>2.25</td>\n",
       "    </tr>\n",
       "    <tr>\n",
       "      <th>9</th>\n",
       "      <td>qualification_High School</td>\n",
       "      <td>2.11</td>\n",
       "    </tr>\n",
       "    <tr>\n",
       "      <th>6</th>\n",
       "      <td>policy_B</td>\n",
       "      <td>1.45</td>\n",
       "    </tr>\n",
       "    <tr>\n",
       "      <th>7</th>\n",
       "      <td>policy_C</td>\n",
       "      <td>1.13</td>\n",
       "    </tr>\n",
       "    <tr>\n",
       "      <th>10</th>\n",
       "      <td>qualification_Others</td>\n",
       "      <td>1.09</td>\n",
       "    </tr>\n",
       "  </tbody>\n",
       "</table>\n",
       "</div>"
      ],
      "text/plain": [
       "                     Features   VIF\n",
       "0                 income_slab  5.59\n",
       "2                     vintage  4.44\n",
       "11                 area_Urban  4.16\n",
       "3                claim_amount  3.96\n",
       "4              type_of_policy  3.29\n",
       "5    num_policies_More than 1  3.05\n",
       "8                 gender_Male  2.27\n",
       "1              marital_status  2.25\n",
       "9   qualification_High School  2.11\n",
       "6                    policy_B  1.45\n",
       "7                    policy_C  1.13\n",
       "10       qualification_Others  1.09"
      ]
     },
     "execution_count": 768,
     "metadata": {},
     "output_type": "execute_result"
    }
   ],
   "source": [
    "#Here we check VIF, as the VIF(income_slab>5) and p_value<0.05-We cannot drop this column.\n",
    "checkVIF(X_train)"
   ]
  },
  {
   "cell_type": "markdown",
   "id": "356f15c4",
   "metadata": {},
   "source": [
    "# Prediction on train data"
   ]
  },
  {
   "cell_type": "code",
   "execution_count": 769,
   "id": "954f52c8",
   "metadata": {},
   "outputs": [
    {
     "data": {
      "text/plain": [
       "0        125608.841162\n",
       "1        124739.644066\n",
       "2        116294.992565\n",
       "3        106277.473662\n",
       "4        114185.223100\n",
       "             ...      \n",
       "89387     98415.691687\n",
       "89388    118567.725423\n",
       "89389    115449.713820\n",
       "89390    102183.186170\n",
       "89391     98224.873673\n",
       "Length: 89392, dtype: float64"
      ]
     },
     "execution_count": 769,
     "metadata": {},
     "output_type": "execute_result"
    }
   ],
   "source": [
    "#Here ,make a new variable named X_train_new which is the result of constant term+X_train.\n",
    "X_train_new = sm.add_constant(X_train)\n",
    "#Make a prediction on X_train_new.\n",
    "y_train_pred = model1.predict(X_train_new)\n",
    "y_train_pred"
   ]
  },
  {
   "cell_type": "markdown",
   "id": "875dc00d",
   "metadata": {},
   "source": [
    "# R2_score on train data:"
   ]
  },
  {
   "cell_type": "code",
   "execution_count": 770,
   "id": "52b15dbd",
   "metadata": {},
   "outputs": [
    {
     "name": "stdout",
     "output_type": "stream",
     "text": [
      "Train Prediction R-Sqrd:  0.15259172590100778\n"
     ]
    }
   ],
   "source": [
    "print(\"Train Prediction R-Sqrd: \", r2_score(Y_train, y_train_pred))"
   ]
  },
  {
   "cell_type": "markdown",
   "id": "d09ee6dc",
   "metadata": {},
   "source": [
    "# Test_data- Same outlier and encoding process apply on test data."
   ]
  },
  {
   "cell_type": "code",
   "execution_count": 771,
   "id": "9ce20da9",
   "metadata": {},
   "outputs": [
    {
     "data": {
      "text/html": [
       "<div>\n",
       "<style scoped>\n",
       "    .dataframe tbody tr th:only-of-type {\n",
       "        vertical-align: middle;\n",
       "    }\n",
       "\n",
       "    .dataframe tbody tr th {\n",
       "        vertical-align: top;\n",
       "    }\n",
       "\n",
       "    .dataframe thead th {\n",
       "        text-align: right;\n",
       "    }\n",
       "</style>\n",
       "<table border=\"1\" class=\"dataframe\">\n",
       "  <thead>\n",
       "    <tr style=\"text-align: right;\">\n",
       "      <th></th>\n",
       "      <th>id</th>\n",
       "      <th>gender</th>\n",
       "      <th>area</th>\n",
       "      <th>qualification</th>\n",
       "      <th>income</th>\n",
       "      <th>marital_status</th>\n",
       "      <th>vintage</th>\n",
       "      <th>claim_amount</th>\n",
       "      <th>num_policies</th>\n",
       "      <th>policy</th>\n",
       "      <th>type_of_policy</th>\n",
       "    </tr>\n",
       "  </thead>\n",
       "  <tbody>\n",
       "    <tr>\n",
       "      <th>0</th>\n",
       "      <td>89393</td>\n",
       "      <td>Female</td>\n",
       "      <td>Rural</td>\n",
       "      <td>High School</td>\n",
       "      <td>5L-10L</td>\n",
       "      <td>0</td>\n",
       "      <td>6</td>\n",
       "      <td>2134</td>\n",
       "      <td>More than 1</td>\n",
       "      <td>B</td>\n",
       "      <td>Silver</td>\n",
       "    </tr>\n",
       "    <tr>\n",
       "      <th>1</th>\n",
       "      <td>89394</td>\n",
       "      <td>Female</td>\n",
       "      <td>Urban</td>\n",
       "      <td>High School</td>\n",
       "      <td>2L-5L</td>\n",
       "      <td>0</td>\n",
       "      <td>4</td>\n",
       "      <td>4102</td>\n",
       "      <td>More than 1</td>\n",
       "      <td>A</td>\n",
       "      <td>Platinum</td>\n",
       "    </tr>\n",
       "    <tr>\n",
       "      <th>2</th>\n",
       "      <td>89395</td>\n",
       "      <td>Male</td>\n",
       "      <td>Rural</td>\n",
       "      <td>High School</td>\n",
       "      <td>5L-10L</td>\n",
       "      <td>1</td>\n",
       "      <td>7</td>\n",
       "      <td>2925</td>\n",
       "      <td>More than 1</td>\n",
       "      <td>B</td>\n",
       "      <td>Gold</td>\n",
       "    </tr>\n",
       "    <tr>\n",
       "      <th>3</th>\n",
       "      <td>89396</td>\n",
       "      <td>Female</td>\n",
       "      <td>Rural</td>\n",
       "      <td>Bachelor</td>\n",
       "      <td>More than 10L</td>\n",
       "      <td>1</td>\n",
       "      <td>2</td>\n",
       "      <td>0</td>\n",
       "      <td>More than 1</td>\n",
       "      <td>B</td>\n",
       "      <td>Silver</td>\n",
       "    </tr>\n",
       "    <tr>\n",
       "      <th>4</th>\n",
       "      <td>89397</td>\n",
       "      <td>Female</td>\n",
       "      <td>Urban</td>\n",
       "      <td>High School</td>\n",
       "      <td>2L-5L</td>\n",
       "      <td>0</td>\n",
       "      <td>5</td>\n",
       "      <td>14059</td>\n",
       "      <td>More than 1</td>\n",
       "      <td>B</td>\n",
       "      <td>Silver</td>\n",
       "    </tr>\n",
       "  </tbody>\n",
       "</table>\n",
       "</div>"
      ],
      "text/plain": [
       "      id  gender   area qualification         income  marital_status  vintage  \\\n",
       "0  89393  Female  Rural   High School         5L-10L               0        6   \n",
       "1  89394  Female  Urban   High School          2L-5L               0        4   \n",
       "2  89395    Male  Rural   High School         5L-10L               1        7   \n",
       "3  89396  Female  Rural      Bachelor  More than 10L               1        2   \n",
       "4  89397  Female  Urban   High School          2L-5L               0        5   \n",
       "\n",
       "   claim_amount num_policies policy type_of_policy  \n",
       "0          2134  More than 1      B         Silver  \n",
       "1          4102  More than 1      A       Platinum  \n",
       "2          2925  More than 1      B           Gold  \n",
       "3             0  More than 1      B         Silver  \n",
       "4         14059  More than 1      B         Silver  "
      ]
     },
     "execution_count": 771,
     "metadata": {},
     "output_type": "execute_result"
    }
   ],
   "source": [
    "#head function\n",
    "df_test.head()"
   ]
  },
  {
   "cell_type": "code",
   "execution_count": 772,
   "id": "f8c95b97",
   "metadata": {},
   "outputs": [
    {
     "data": {
      "image/png": "[encoded data removed]",
      "text/plain": [
       "<Figure size 640x480 with 2 Axes>"
      ]
     },
     "metadata": {},
     "output_type": "display_data"
    }
   ],
   "source": [
    "#Check the outliers in the claim amount, as we have seen that there are lot of outiers in the data.\n",
    "sns.set(style=\"darkgrid\")\n",
    "fig,(ax_box,ax_dist)=plt.subplots(2,sharex=True)\n",
    "sns.boxplot('claim_amount',data=df_train,ax=ax_box)\n",
    "sns.distplot(df_test['claim_amount'],hist=False,ax=ax_dist)\n",
    "plt.show()"
   ]
  },
  {
   "cell_type": "markdown",
   "id": "253091b3",
   "metadata": {},
   "source": [
    "# Remove outliers through quartile method and apply capping."
   ]
  },
  {
   "cell_type": "code",
   "execution_count": 773,
   "id": "ffc25a7f",
   "metadata": {},
   "outputs": [],
   "source": [
    "percentile25=df_test['claim_amount'].quantile(0.25)\n",
    "percentile75=df_test['claim_amount'].quantile(0.75)"
   ]
  },
  {
   "cell_type": "code",
   "execution_count": 774,
   "id": "50b92740",
   "metadata": {},
   "outputs": [],
   "source": [
    "IQR=percentile75-percentile25"
   ]
  },
  {
   "cell_type": "code",
   "execution_count": 775,
   "id": "68cf7573",
   "metadata": {},
   "outputs": [
    {
     "name": "stdout",
     "output_type": "stream",
     "text": [
      "Upper_limit: 11663.0\n",
      "Lower_limit: -3161.0\n"
     ]
    }
   ],
   "source": [
    "upper_limit=percentile75+1.5*IQR\n",
    "lower_limit=percentile25-1.5*IQR\n",
    "print(\"Upper_limit:\",upper_limit)\n",
    "print(\"Lower_limit:\",lower_limit)"
   ]
  },
  {
   "cell_type": "code",
   "execution_count": 776,
   "id": "acc3b223",
   "metadata": {},
   "outputs": [
    {
     "data": {
      "text/html": [
       "<div>\n",
       "<style scoped>\n",
       "    .dataframe tbody tr th:only-of-type {\n",
       "        vertical-align: middle;\n",
       "    }\n",
       "\n",
       "    .dataframe tbody tr th {\n",
       "        vertical-align: top;\n",
       "    }\n",
       "\n",
       "    .dataframe thead th {\n",
       "        text-align: right;\n",
       "    }\n",
       "</style>\n",
       "<table border=\"1\" class=\"dataframe\">\n",
       "  <thead>\n",
       "    <tr style=\"text-align: right;\">\n",
       "      <th></th>\n",
       "      <th>id</th>\n",
       "      <th>gender</th>\n",
       "      <th>area</th>\n",
       "      <th>qualification</th>\n",
       "      <th>income</th>\n",
       "      <th>marital_status</th>\n",
       "      <th>vintage</th>\n",
       "      <th>claim_amount</th>\n",
       "      <th>num_policies</th>\n",
       "      <th>policy</th>\n",
       "      <th>type_of_policy</th>\n",
       "    </tr>\n",
       "  </thead>\n",
       "  <tbody>\n",
       "    <tr>\n",
       "      <th>4</th>\n",
       "      <td>89397</td>\n",
       "      <td>Female</td>\n",
       "      <td>Urban</td>\n",
       "      <td>High School</td>\n",
       "      <td>2L-5L</td>\n",
       "      <td>0</td>\n",
       "      <td>5</td>\n",
       "      <td>14059</td>\n",
       "      <td>More than 1</td>\n",
       "      <td>B</td>\n",
       "      <td>Silver</td>\n",
       "    </tr>\n",
       "    <tr>\n",
       "      <th>51</th>\n",
       "      <td>89444</td>\n",
       "      <td>Male</td>\n",
       "      <td>Urban</td>\n",
       "      <td>Bachelor</td>\n",
       "      <td>5L-10L</td>\n",
       "      <td>0</td>\n",
       "      <td>8</td>\n",
       "      <td>15190</td>\n",
       "      <td>1</td>\n",
       "      <td>A</td>\n",
       "      <td>Gold</td>\n",
       "    </tr>\n",
       "    <tr>\n",
       "      <th>146</th>\n",
       "      <td>89539</td>\n",
       "      <td>Female</td>\n",
       "      <td>Urban</td>\n",
       "      <td>High School</td>\n",
       "      <td>5L-10L</td>\n",
       "      <td>0</td>\n",
       "      <td>8</td>\n",
       "      <td>20102</td>\n",
       "      <td>More than 1</td>\n",
       "      <td>B</td>\n",
       "      <td>Silver</td>\n",
       "    </tr>\n",
       "    <tr>\n",
       "      <th>153</th>\n",
       "      <td>89546</td>\n",
       "      <td>Male</td>\n",
       "      <td>Urban</td>\n",
       "      <td>High School</td>\n",
       "      <td>5L-10L</td>\n",
       "      <td>0</td>\n",
       "      <td>8</td>\n",
       "      <td>13495</td>\n",
       "      <td>More than 1</td>\n",
       "      <td>A</td>\n",
       "      <td>Platinum</td>\n",
       "    </tr>\n",
       "    <tr>\n",
       "      <th>182</th>\n",
       "      <td>89575</td>\n",
       "      <td>Male</td>\n",
       "      <td>Urban</td>\n",
       "      <td>High School</td>\n",
       "      <td>5L-10L</td>\n",
       "      <td>0</td>\n",
       "      <td>5</td>\n",
       "      <td>12112</td>\n",
       "      <td>More than 1</td>\n",
       "      <td>A</td>\n",
       "      <td>Platinum</td>\n",
       "    </tr>\n",
       "    <tr>\n",
       "      <th>...</th>\n",
       "      <td>...</td>\n",
       "      <td>...</td>\n",
       "      <td>...</td>\n",
       "      <td>...</td>\n",
       "      <td>...</td>\n",
       "      <td>...</td>\n",
       "      <td>...</td>\n",
       "      <td>...</td>\n",
       "      <td>...</td>\n",
       "      <td>...</td>\n",
       "      <td>...</td>\n",
       "    </tr>\n",
       "    <tr>\n",
       "      <th>59492</th>\n",
       "      <td>148885</td>\n",
       "      <td>Female</td>\n",
       "      <td>Urban</td>\n",
       "      <td>High School</td>\n",
       "      <td>5L-10L</td>\n",
       "      <td>1</td>\n",
       "      <td>6</td>\n",
       "      <td>12409</td>\n",
       "      <td>More than 1</td>\n",
       "      <td>B</td>\n",
       "      <td>Silver</td>\n",
       "    </tr>\n",
       "    <tr>\n",
       "      <th>59512</th>\n",
       "      <td>148905</td>\n",
       "      <td>Female</td>\n",
       "      <td>Urban</td>\n",
       "      <td>High School</td>\n",
       "      <td>5L-10L</td>\n",
       "      <td>1</td>\n",
       "      <td>8</td>\n",
       "      <td>14492</td>\n",
       "      <td>More than 1</td>\n",
       "      <td>A</td>\n",
       "      <td>Platinum</td>\n",
       "    </tr>\n",
       "    <tr>\n",
       "      <th>59535</th>\n",
       "      <td>148928</td>\n",
       "      <td>Male</td>\n",
       "      <td>Urban</td>\n",
       "      <td>High School</td>\n",
       "      <td>2L-5L</td>\n",
       "      <td>0</td>\n",
       "      <td>8</td>\n",
       "      <td>17238</td>\n",
       "      <td>More than 1</td>\n",
       "      <td>A</td>\n",
       "      <td>Gold</td>\n",
       "    </tr>\n",
       "    <tr>\n",
       "      <th>59539</th>\n",
       "      <td>148932</td>\n",
       "      <td>Male</td>\n",
       "      <td>Urban</td>\n",
       "      <td>High School</td>\n",
       "      <td>2L-5L</td>\n",
       "      <td>1</td>\n",
       "      <td>4</td>\n",
       "      <td>11699</td>\n",
       "      <td>More than 1</td>\n",
       "      <td>A</td>\n",
       "      <td>Platinum</td>\n",
       "    </tr>\n",
       "    <tr>\n",
       "      <th>59564</th>\n",
       "      <td>148957</td>\n",
       "      <td>Female</td>\n",
       "      <td>Urban</td>\n",
       "      <td>High School</td>\n",
       "      <td>2L-5L</td>\n",
       "      <td>0</td>\n",
       "      <td>2</td>\n",
       "      <td>14603</td>\n",
       "      <td>More than 1</td>\n",
       "      <td>C</td>\n",
       "      <td>Platinum</td>\n",
       "    </tr>\n",
       "  </tbody>\n",
       "</table>\n",
       "<p>1553 rows × 11 columns</p>\n",
       "</div>"
      ],
      "text/plain": [
       "           id  gender   area qualification  income  marital_status  vintage  \\\n",
       "4       89397  Female  Urban   High School   2L-5L               0        5   \n",
       "51      89444    Male  Urban      Bachelor  5L-10L               0        8   \n",
       "146     89539  Female  Urban   High School  5L-10L               0        8   \n",
       "153     89546    Male  Urban   High School  5L-10L               0        8   \n",
       "182     89575    Male  Urban   High School  5L-10L               0        5   \n",
       "...       ...     ...    ...           ...     ...             ...      ...   \n",
       "59492  148885  Female  Urban   High School  5L-10L               1        6   \n",
       "59512  148905  Female  Urban   High School  5L-10L               1        8   \n",
       "59535  148928    Male  Urban   High School   2L-5L               0        8   \n",
       "59539  148932    Male  Urban   High School   2L-5L               1        4   \n",
       "59564  148957  Female  Urban   High School   2L-5L               0        2   \n",
       "\n",
       "       claim_amount num_policies policy type_of_policy  \n",
       "4             14059  More than 1      B         Silver  \n",
       "51            15190            1      A           Gold  \n",
       "146           20102  More than 1      B         Silver  \n",
       "153           13495  More than 1      A       Platinum  \n",
       "182           12112  More than 1      A       Platinum  \n",
       "...             ...          ...    ...            ...  \n",
       "59492         12409  More than 1      B         Silver  \n",
       "59512         14492  More than 1      A       Platinum  \n",
       "59535         17238  More than 1      A           Gold  \n",
       "59539         11699  More than 1      A       Platinum  \n",
       "59564         14603  More than 1      C       Platinum  \n",
       "\n",
       "[1553 rows x 11 columns]"
      ]
     },
     "execution_count": 776,
     "metadata": {},
     "output_type": "execute_result"
    }
   ],
   "source": [
    "df_test[df_test['claim_amount']>upper_limit]"
   ]
  },
  {
   "cell_type": "code",
   "execution_count": 777,
   "id": "34fb55a8",
   "metadata": {},
   "outputs": [
    {
     "data": {
      "text/html": [
       "<div>\n",
       "<style scoped>\n",
       "    .dataframe tbody tr th:only-of-type {\n",
       "        vertical-align: middle;\n",
       "    }\n",
       "\n",
       "    .dataframe tbody tr th {\n",
       "        vertical-align: top;\n",
       "    }\n",
       "\n",
       "    .dataframe thead th {\n",
       "        text-align: right;\n",
       "    }\n",
       "</style>\n",
       "<table border=\"1\" class=\"dataframe\">\n",
       "  <thead>\n",
       "    <tr style=\"text-align: right;\">\n",
       "      <th></th>\n",
       "      <th>id</th>\n",
       "      <th>gender</th>\n",
       "      <th>area</th>\n",
       "      <th>qualification</th>\n",
       "      <th>income</th>\n",
       "      <th>marital_status</th>\n",
       "      <th>vintage</th>\n",
       "      <th>claim_amount</th>\n",
       "      <th>num_policies</th>\n",
       "      <th>policy</th>\n",
       "      <th>type_of_policy</th>\n",
       "    </tr>\n",
       "  </thead>\n",
       "  <tbody>\n",
       "  </tbody>\n",
       "</table>\n",
       "</div>"
      ],
      "text/plain": [
       "Empty DataFrame\n",
       "Columns: [id, gender, area, qualification, income, marital_status, vintage, claim_amount, num_policies, policy, type_of_policy]\n",
       "Index: []"
      ]
     },
     "execution_count": 777,
     "metadata": {},
     "output_type": "execute_result"
    }
   ],
   "source": [
    "df_test[df_test['claim_amount']<lower_limit]"
   ]
  },
  {
   "cell_type": "code",
   "execution_count": 778,
   "id": "11476c65",
   "metadata": {},
   "outputs": [],
   "source": [
    "df_test_cap=df_test.copy()"
   ]
  },
  {
   "cell_type": "code",
   "execution_count": 779,
   "id": "c7f2fb9e",
   "metadata": {},
   "outputs": [],
   "source": [
    "df_test_cap['claim_amount']=np.where(df_test_cap['claim_amount']>upper_limit,upper_limit,df_test_cap['claim_amount'])"
   ]
  },
  {
   "cell_type": "code",
   "execution_count": 780,
   "id": "06f52e4f",
   "metadata": {},
   "outputs": [
    {
     "data": {
      "image/png": "[encoded data removed]",
      "text/plain": [
       "<Figure size 640x480 with 1 Axes>"
      ]
     },
     "metadata": {},
     "output_type": "display_data"
    }
   ],
   "source": [
    "#After removal of outliers\n",
    "sns.boxplot(df_test_cap['claim_amount'])\n",
    "plt.show()"
   ]
  },
  {
   "cell_type": "code",
   "execution_count": 781,
   "id": "a009974f",
   "metadata": {},
   "outputs": [],
   "source": [
    "df_test_cap.drop(columns=['id'],inplace=True)"
   ]
  },
  {
   "cell_type": "markdown",
   "id": "f401ee3e",
   "metadata": {},
   "source": [
    "# Replace income features from new features"
   ]
  },
  {
   "cell_type": "code",
   "execution_count": 782,
   "id": "a1e6d91c",
   "metadata": {},
   "outputs": [],
   "source": [
    "df_test_cap['income'] = df_test_cap['income'].replace('<=2L', 'low')"
   ]
  },
  {
   "cell_type": "code",
   "execution_count": 783,
   "id": "70e5420c",
   "metadata": {},
   "outputs": [],
   "source": [
    "df_test_cap['income'] = df_test_cap['income'].replace('2L-5L', 'Medium')"
   ]
  },
  {
   "cell_type": "code",
   "execution_count": 784,
   "id": "8b027c91",
   "metadata": {},
   "outputs": [],
   "source": [
    "df_test_cap['income'] = df_test_cap['income'].replace('5L-10L', 'High')"
   ]
  },
  {
   "cell_type": "code",
   "execution_count": 785,
   "id": "183a1863",
   "metadata": {},
   "outputs": [],
   "source": [
    "df_test_cap['income'] = df_test_cap['income'].replace('More than 10L', 'Very High')"
   ]
  },
  {
   "cell_type": "code",
   "execution_count": 786,
   "id": "67ab6b59",
   "metadata": {},
   "outputs": [],
   "source": [
    "df_test_cap.rename(columns={'income':'income_slab'},inplace=True)"
   ]
  },
  {
   "cell_type": "markdown",
   "id": "8ff4c8ff",
   "metadata": {},
   "source": [
    "# OHE or pd.get_dummies"
   ]
  },
  {
   "cell_type": "code",
   "execution_count": 787,
   "id": "5979a345",
   "metadata": {},
   "outputs": [],
   "source": [
    "df_test_cap=pd.get_dummies(df_test_cap,columns=['num_policies','policy','gender','qualification','area'],drop_first=True)"
   ]
  },
  {
   "cell_type": "markdown",
   "id": "4d715b9e",
   "metadata": {},
   "source": [
    "# Ordinal_encoding"
   ]
  },
  {
   "cell_type": "code",
   "execution_count": 788,
   "id": "443fa717",
   "metadata": {},
   "outputs": [],
   "source": [
    "enc=OrdinalEncoder(categories=[['low','Medium','High','Very High'],['Silver','Gold','Platinum']])"
   ]
  },
  {
   "cell_type": "code",
   "execution_count": 789,
   "id": "efabfc16",
   "metadata": {},
   "outputs": [
    {
     "data": {
      "text/plain": [
       "OrdinalEncoder(categories=[['low', 'Medium', 'High', 'Very High'],\n",
       "                           ['Silver', 'Gold', 'Platinum']])"
      ]
     },
     "execution_count": 789,
     "metadata": {},
     "output_type": "execute_result"
    }
   ],
   "source": [
    "enc.fit(df_test_cap[['income_slab',\"type_of_policy\"]])"
   ]
  },
  {
   "cell_type": "code",
   "execution_count": 790,
   "id": "2f656f58",
   "metadata": {},
   "outputs": [],
   "source": [
    "df_test_cap[['income_slab','type_of_policy']]=enc.transform(df_test_cap[['income_slab','type_of_policy']])"
   ]
  },
  {
   "cell_type": "code",
   "execution_count": 791,
   "id": "ab3bc02f",
   "metadata": {},
   "outputs": [
    {
     "data": {
      "text/html": [
       "<div>\n",
       "<style scoped>\n",
       "    .dataframe tbody tr th:only-of-type {\n",
       "        vertical-align: middle;\n",
       "    }\n",
       "\n",
       "    .dataframe tbody tr th {\n",
       "        vertical-align: top;\n",
       "    }\n",
       "\n",
       "    .dataframe thead th {\n",
       "        text-align: right;\n",
       "    }\n",
       "</style>\n",
       "<table border=\"1\" class=\"dataframe\">\n",
       "  <thead>\n",
       "    <tr style=\"text-align: right;\">\n",
       "      <th></th>\n",
       "      <th>income_slab</th>\n",
       "      <th>marital_status</th>\n",
       "      <th>vintage</th>\n",
       "      <th>claim_amount</th>\n",
       "      <th>type_of_policy</th>\n",
       "      <th>num_policies_More than 1</th>\n",
       "      <th>policy_B</th>\n",
       "      <th>policy_C</th>\n",
       "      <th>gender_Male</th>\n",
       "      <th>qualification_High School</th>\n",
       "      <th>qualification_Others</th>\n",
       "      <th>area_Urban</th>\n",
       "    </tr>\n",
       "  </thead>\n",
       "  <tbody>\n",
       "    <tr>\n",
       "      <th>0</th>\n",
       "      <td>2.0</td>\n",
       "      <td>0</td>\n",
       "      <td>6</td>\n",
       "      <td>2134.0</td>\n",
       "      <td>0.0</td>\n",
       "      <td>1</td>\n",
       "      <td>1</td>\n",
       "      <td>0</td>\n",
       "      <td>0</td>\n",
       "      <td>1</td>\n",
       "      <td>0</td>\n",
       "      <td>0</td>\n",
       "    </tr>\n",
       "    <tr>\n",
       "      <th>1</th>\n",
       "      <td>1.0</td>\n",
       "      <td>0</td>\n",
       "      <td>4</td>\n",
       "      <td>4102.0</td>\n",
       "      <td>2.0</td>\n",
       "      <td>1</td>\n",
       "      <td>0</td>\n",
       "      <td>0</td>\n",
       "      <td>0</td>\n",
       "      <td>1</td>\n",
       "      <td>0</td>\n",
       "      <td>1</td>\n",
       "    </tr>\n",
       "    <tr>\n",
       "      <th>2</th>\n",
       "      <td>2.0</td>\n",
       "      <td>1</td>\n",
       "      <td>7</td>\n",
       "      <td>2925.0</td>\n",
       "      <td>1.0</td>\n",
       "      <td>1</td>\n",
       "      <td>1</td>\n",
       "      <td>0</td>\n",
       "      <td>1</td>\n",
       "      <td>1</td>\n",
       "      <td>0</td>\n",
       "      <td>0</td>\n",
       "    </tr>\n",
       "    <tr>\n",
       "      <th>3</th>\n",
       "      <td>3.0</td>\n",
       "      <td>1</td>\n",
       "      <td>2</td>\n",
       "      <td>0.0</td>\n",
       "      <td>0.0</td>\n",
       "      <td>1</td>\n",
       "      <td>1</td>\n",
       "      <td>0</td>\n",
       "      <td>0</td>\n",
       "      <td>0</td>\n",
       "      <td>0</td>\n",
       "      <td>0</td>\n",
       "    </tr>\n",
       "    <tr>\n",
       "      <th>4</th>\n",
       "      <td>1.0</td>\n",
       "      <td>0</td>\n",
       "      <td>5</td>\n",
       "      <td>11663.0</td>\n",
       "      <td>0.0</td>\n",
       "      <td>1</td>\n",
       "      <td>1</td>\n",
       "      <td>0</td>\n",
       "      <td>0</td>\n",
       "      <td>1</td>\n",
       "      <td>0</td>\n",
       "      <td>1</td>\n",
       "    </tr>\n",
       "  </tbody>\n",
       "</table>\n",
       "</div>"
      ],
      "text/plain": [
       "   income_slab  marital_status  vintage  claim_amount  type_of_policy  \\\n",
       "0          2.0               0        6        2134.0             0.0   \n",
       "1          1.0               0        4        4102.0             2.0   \n",
       "2          2.0               1        7        2925.0             1.0   \n",
       "3          3.0               1        2           0.0             0.0   \n",
       "4          1.0               0        5       11663.0             0.0   \n",
       "\n",
       "   num_policies_More than 1  policy_B  policy_C  gender_Male  \\\n",
       "0                         1         1         0            0   \n",
       "1                         1         0         0            0   \n",
       "2                         1         1         0            1   \n",
       "3                         1         1         0            0   \n",
       "4                         1         1         0            0   \n",
       "\n",
       "   qualification_High School  qualification_Others  area_Urban  \n",
       "0                          1                     0           0  \n",
       "1                          1                     0           1  \n",
       "2                          1                     0           0  \n",
       "3                          0                     0           0  \n",
       "4                          1                     0           1  "
      ]
     },
     "execution_count": 791,
     "metadata": {},
     "output_type": "execute_result"
    }
   ],
   "source": [
    "df_test_cap.head()"
   ]
  },
  {
   "cell_type": "markdown",
   "id": "0fb8051b",
   "metadata": {},
   "source": [
    "# Here we scale and transform the test data:"
   ]
  },
  {
   "cell_type": "code",
   "execution_count": 792,
   "id": "c946a6e7",
   "metadata": {},
   "outputs": [],
   "source": [
    "num_vars=['income_slab','vintage','claim_amount','type_of_policy']\n",
    "df_test_cap[num_vars]=scaler.transform(df_test_cap[num_vars])"
   ]
  },
  {
   "cell_type": "code",
   "execution_count": 793,
   "id": "4261c721",
   "metadata": {},
   "outputs": [
    {
     "data": {
      "text/html": [
       "<div>\n",
       "<style scoped>\n",
       "    .dataframe tbody tr th:only-of-type {\n",
       "        vertical-align: middle;\n",
       "    }\n",
       "\n",
       "    .dataframe tbody tr th {\n",
       "        vertical-align: top;\n",
       "    }\n",
       "\n",
       "    .dataframe thead th {\n",
       "        text-align: right;\n",
       "    }\n",
       "</style>\n",
       "<table border=\"1\" class=\"dataframe\">\n",
       "  <thead>\n",
       "    <tr style=\"text-align: right;\">\n",
       "      <th></th>\n",
       "      <th>income_slab</th>\n",
       "      <th>marital_status</th>\n",
       "      <th>vintage</th>\n",
       "      <th>claim_amount</th>\n",
       "      <th>type_of_policy</th>\n",
       "      <th>num_policies_More than 1</th>\n",
       "      <th>policy_B</th>\n",
       "      <th>policy_C</th>\n",
       "      <th>gender_Male</th>\n",
       "      <th>qualification_High School</th>\n",
       "      <th>qualification_Others</th>\n",
       "      <th>area_Urban</th>\n",
       "    </tr>\n",
       "  </thead>\n",
       "  <tbody>\n",
       "    <tr>\n",
       "      <th>0</th>\n",
       "      <td>0.666667</td>\n",
       "      <td>0</td>\n",
       "      <td>0.750</td>\n",
       "      <td>0.183554</td>\n",
       "      <td>0.0</td>\n",
       "      <td>1</td>\n",
       "      <td>1</td>\n",
       "      <td>0</td>\n",
       "      <td>0</td>\n",
       "      <td>1</td>\n",
       "      <td>0</td>\n",
       "      <td>0</td>\n",
       "    </tr>\n",
       "    <tr>\n",
       "      <th>1</th>\n",
       "      <td>0.333333</td>\n",
       "      <td>0</td>\n",
       "      <td>0.500</td>\n",
       "      <td>0.352830</td>\n",
       "      <td>1.0</td>\n",
       "      <td>1</td>\n",
       "      <td>0</td>\n",
       "      <td>0</td>\n",
       "      <td>0</td>\n",
       "      <td>1</td>\n",
       "      <td>0</td>\n",
       "      <td>1</td>\n",
       "    </tr>\n",
       "    <tr>\n",
       "      <th>2</th>\n",
       "      <td>0.666667</td>\n",
       "      <td>1</td>\n",
       "      <td>0.875</td>\n",
       "      <td>0.251591</td>\n",
       "      <td>0.5</td>\n",
       "      <td>1</td>\n",
       "      <td>1</td>\n",
       "      <td>0</td>\n",
       "      <td>1</td>\n",
       "      <td>1</td>\n",
       "      <td>0</td>\n",
       "      <td>0</td>\n",
       "    </tr>\n",
       "    <tr>\n",
       "      <th>3</th>\n",
       "      <td>1.000000</td>\n",
       "      <td>1</td>\n",
       "      <td>0.250</td>\n",
       "      <td>0.000000</td>\n",
       "      <td>0.0</td>\n",
       "      <td>1</td>\n",
       "      <td>1</td>\n",
       "      <td>0</td>\n",
       "      <td>0</td>\n",
       "      <td>0</td>\n",
       "      <td>0</td>\n",
       "      <td>0</td>\n",
       "    </tr>\n",
       "    <tr>\n",
       "      <th>4</th>\n",
       "      <td>0.333333</td>\n",
       "      <td>0</td>\n",
       "      <td>0.625</td>\n",
       "      <td>1.003183</td>\n",
       "      <td>0.0</td>\n",
       "      <td>1</td>\n",
       "      <td>1</td>\n",
       "      <td>0</td>\n",
       "      <td>0</td>\n",
       "      <td>1</td>\n",
       "      <td>0</td>\n",
       "      <td>1</td>\n",
       "    </tr>\n",
       "  </tbody>\n",
       "</table>\n",
       "</div>"
      ],
      "text/plain": [
       "   income_slab  marital_status  vintage  claim_amount  type_of_policy  \\\n",
       "0     0.666667               0    0.750      0.183554             0.0   \n",
       "1     0.333333               0    0.500      0.352830             1.0   \n",
       "2     0.666667               1    0.875      0.251591             0.5   \n",
       "3     1.000000               1    0.250      0.000000             0.0   \n",
       "4     0.333333               0    0.625      1.003183             0.0   \n",
       "\n",
       "   num_policies_More than 1  policy_B  policy_C  gender_Male  \\\n",
       "0                         1         1         0            0   \n",
       "1                         1         0         0            0   \n",
       "2                         1         1         0            1   \n",
       "3                         1         1         0            0   \n",
       "4                         1         1         0            0   \n",
       "\n",
       "   qualification_High School  qualification_Others  area_Urban  \n",
       "0                          1                     0           0  \n",
       "1                          1                     0           1  \n",
       "2                          1                     0           0  \n",
       "3                          0                     0           0  \n",
       "4                          1                     0           1  "
      ]
     },
     "execution_count": 793,
     "metadata": {},
     "output_type": "execute_result"
    }
   ],
   "source": [
    "df_test_cap.head()"
   ]
  },
  {
   "cell_type": "code",
   "execution_count": 794,
   "id": "ffae089c",
   "metadata": {},
   "outputs": [],
   "source": [
    "df_test_new = sm.add_constant(df_test_cap)"
   ]
  },
  {
   "cell_type": "markdown",
   "id": "315cf0bc",
   "metadata": {},
   "source": [
    "# Prediction on test data"
   ]
  },
  {
   "cell_type": "code",
   "execution_count": 795,
   "id": "a9f8743c",
   "metadata": {},
   "outputs": [
    {
     "data": {
      "text/plain": [
       "0        104222.816881\n",
       "1        126747.832397\n",
       "2        102792.549171\n",
       "3         87663.577158\n",
       "4        142121.383849\n",
       "             ...      \n",
       "59590     36011.501040\n",
       "59591     58261.135152\n",
       "59592    110009.139700\n",
       "59593    115946.590489\n",
       "59594    116358.475096\n",
       "Length: 59595, dtype: float64"
      ]
     },
     "execution_count": 795,
     "metadata": {},
     "output_type": "execute_result"
    }
   ],
   "source": [
    "y_test_pred = model1.predict(df_test_new)\n",
    "y_test_pred"
   ]
  },
  {
   "cell_type": "code",
   "execution_count": 796,
   "id": "820be3e3",
   "metadata": {},
   "outputs": [],
   "source": [
    "y_test_pred.to_csv(\"y_test_New\",index=False)"
   ]
  },
  {
   "cell_type": "markdown",
   "id": "e6153fdb",
   "metadata": {},
   "source": [
    "# Final_Model_Summary"
   ]
  },
  {
   "cell_type": "code",
   "execution_count": 797,
   "id": "bd1034a3",
   "metadata": {},
   "outputs": [
    {
     "name": "stdout",
     "output_type": "stream",
     "text": [
      "                            OLS Regression Results                            \n",
      "==============================================================================\n",
      "Dep. Variable:                   cltv   R-squared:                       0.153\n",
      "Model:                            OLS   Adj. R-squared:                  0.152\n",
      "Method:                 Least Squares   F-statistic:                     1341.\n",
      "Date:                Sun, 22 Jan 2023   Prob (F-statistic):               0.00\n",
      "Time:                        23:52:08   Log-Likelihood:            -1.1398e+06\n",
      "No. Observations:               89392   AIC:                         2.280e+06\n",
      "Df Residuals:                   89379   BIC:                         2.280e+06\n",
      "Df Model:                          12                                         \n",
      "Covariance Type:            nonrobust                                         \n",
      "=============================================================================================\n",
      "                                coef    std err          t      P>|t|      [0.025      0.975]\n",
      "---------------------------------------------------------------------------------------------\n",
      "const                      4.514e+04   1501.362     30.067      0.000    4.22e+04    4.81e+04\n",
      "income_slab               -8495.4440   1294.112     -6.565      0.000    -1.1e+04   -5958.998\n",
      "marital_status            -7151.5194    572.265    -12.497      0.000   -8273.153   -6029.886\n",
      "vintage                    1788.6974    980.612      1.824      0.068    -133.293    3710.688\n",
      "claim_amount               3.638e+04   1269.406     28.657      0.000    3.39e+04    3.89e+04\n",
      "type_of_policy             1358.6470    682.861      1.990      0.047      20.245    2697.049\n",
      "num_policies_More than 1   6.487e+04    610.222    106.308      0.000    6.37e+04    6.61e+04\n",
      "policy_B                  -7149.6893    661.520    -10.808      0.000   -8446.261   -5853.117\n",
      "policy_C                   9940.3163    994.232      9.998      0.000    7991.630    1.19e+04\n",
      "gender_Male                2343.3092    567.303      4.131      0.000    1231.401    3455.217\n",
      "qualification_High School  -995.7097    575.887     -1.729      0.084   -2124.442     133.023\n",
      "qualification_Others      -7977.1415   1431.325     -5.573      0.000   -1.08e+04   -5171.759\n",
      "area_Urban                 5474.1847    710.863      7.701      0.000    4080.900    6867.470\n",
      "==============================================================================\n",
      "Omnibus:                    51155.217   Durbin-Watson:                   1.994\n",
      "Prob(Omnibus):                  0.000   Jarque-Bera (JB):           403057.996\n",
      "Skew:                           2.730   Prob(JB):                         0.00\n",
      "Kurtosis:                      11.854   Cond. No.                         14.1\n",
      "==============================================================================\n",
      "\n",
      "Notes:\n",
      "[1] Standard Errors assume that the covariance matrix of the errors is correctly specified.\n"
     ]
    }
   ],
   "source": [
    "print(model1.summary())"
   ]
  },
  {
   "cell_type": "code",
   "execution_count": null,
   "id": "363a08ce",
   "metadata": {},
   "outputs": [],
   "source": []
  },
  {
   "cell_type": "code",
   "execution_count": null,
   "id": "11912a95",
   "metadata": {},
   "outputs": [],
   "source": []
  },
  {
   "cell_type": "code",
   "execution_count": null,
   "id": "77754508",
   "metadata": {},
   "outputs": [],
   "source": []
  }
 ],
 "metadata": {
  "kernelspec": {
   "display_name": "Python 3 (ipykernel)",
   "language": "python",
   "name": "python3"
  },
  "language_info": {
   "codemirror_mode": {
    "name": "ipython",
    "version": 3
   },
   "file_extension": ".py",
   "mimetype": "text/x-python",
   "name": "python",
   "nbconvert_exporter": "python",
   "pygments_lexer": "ipython3",
   "version": "3.9.13"
  }
 },
 "nbformat": 4,
 "nbformat_minor": 5
}
